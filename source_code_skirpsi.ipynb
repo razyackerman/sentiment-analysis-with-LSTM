{
  "cells": [
    {
      "cell_type": "markdown",
      "metadata": {
        "id": "PcfuJCn-hpUC"
      },
      "source": [
        "#0. Import Libraries"
      ]
    },
    {
      "cell_type": "code",
      "execution_count": null,
      "metadata": {
        "colab": {
          "base_uri": "https://localhost:8080/"
        },
        "id": "LITkSGM3h46x",
        "outputId": "3123b38c-5c4b-4212-e85e-200ab9aed444"
      },
      "outputs": [
        {
          "output_type": "stream",
          "name": "stdout",
          "text": [
            "Looking in indexes: https://pypi.org/simple, https://us-python.pkg.dev/colab-wheels/public/simple/\n",
            "Collecting google-play-scraper\n",
            "  Downloading google-play-scraper-1.1.0.tar.gz (52 kB)\n",
            "\u001b[K     |████████████████████████████████| 52 kB 1.4 MB/s \n",
            "\u001b[?25hBuilding wheels for collected packages: google-play-scraper\n",
            "  Building wheel for google-play-scraper (setup.py) ... \u001b[?25l\u001b[?25hdone\n",
            "  Created wheel for google-play-scraper: filename=google_play_scraper-1.1.0-py3-none-any.whl size=24585 sha256=4f5a8e85e0a0b4815c45c7d3f755d8fb6b1c9de09c1d16572bac015383469114\n",
            "  Stored in directory: /root/.cache/pip/wheels/f4/fc/13/fc4c30a74f33bdd956248d2a0f022780fce59250a6a2301ad8\n",
            "Successfully built google-play-scraper\n",
            "Installing collected packages: google-play-scraper\n",
            "Successfully installed google-play-scraper-1.1.0\n",
            "from: can't read /var/mail/google_play_scraper\n",
            "Looking in indexes: https://pypi.org/simple, https://us-python.pkg.dev/colab-wheels/public/simple/\n",
            "Collecting Sastrawi\n",
            "  Downloading Sastrawi-1.0.1-py2.py3-none-any.whl (209 kB)\n",
            "\u001b[K     |████████████████████████████████| 209 kB 5.2 MB/s \n",
            "\u001b[?25hInstalling collected packages: Sastrawi\n",
            "Successfully installed Sastrawi-1.0.1\n",
            "Looking in indexes: https://pypi.org/simple, https://us-python.pkg.dev/colab-wheels/public/simple/\n",
            "Requirement already satisfied: torch in /usr/local/lib/python3.7/dist-packages (1.11.0+cu113)\n",
            "Requirement already satisfied: typing-extensions in /usr/local/lib/python3.7/dist-packages (from torch) (4.1.1)\n"
          ]
        }
      ],
      "source": [
        "!pip install google-play-scraper\n",
        "!from google_play_scraper import app\n",
        "from google_play_scraper import Sort, reviews\n",
        "\n",
        "!pip install Sastrawi\n",
        "from Sastrawi.Stemmer.StemmerFactory import StemmerFactory\n",
        "factory = StemmerFactory()\n",
        "stemmer = factory.create_stemmer()\n",
        "\n",
        "!pip install torch"
      ]
    },
    {
      "cell_type": "code",
      "execution_count": null,
      "metadata": {
        "colab": {
          "base_uri": "https://localhost:8080/"
        },
        "id": "NDKnBlUzhtP5",
        "outputId": "c151328e-a24e-4b39-a466-f3a59a10d776"
      },
      "outputs": [
        {
          "output_type": "stream",
          "name": "stderr",
          "text": [
            "[nltk_data] Downloading package stopwords to /root/nltk_data...\n",
            "[nltk_data]   Unzipping corpora/stopwords.zip.\n",
            "[nltk_data] Downloading package wordnet to /root/nltk_data...\n"
          ]
        }
      ],
      "source": [
        "#Basic libraries\n",
        "import pandas as pd\n",
        "import numpy as np\n",
        "\n",
        "#Data Pre-processing\n",
        "import nltk\n",
        "nltk.download('stopwords')\n",
        "nltk.download('wordnet')\n",
        "from nltk.corpus import stopwords\n",
        "from nltk.tokenize import RegexpTokenizer\n",
        "from sklearn.preprocessing import LabelEncoder\n",
        "from collections import Counter\n",
        "import re\n",
        "\n",
        "#Pytorch\n",
        "from torch.utils.data import DataLoader, TensorDataset\n",
        "import torch.nn.functional as F\n",
        "import torch\n",
        "import torch.nn as nn\n",
        "import itertools\n",
        "\n",
        "#Data Visualization\n",
        "import matplotlib.pyplot as plt\n",
        "import matplotlib.ticker as mticker\n",
        "from sklearn.metrics import accuracy_score, precision_score, recall_score, f1_score,confusion_matrix,classification_report"
      ]
    },
    {
      "cell_type": "markdown",
      "metadata": {
        "id": "QHf6cDiChQ91"
      },
      "source": [
        "#1. Data Scraping"
      ]
    },
    {
      "cell_type": "code",
      "execution_count": null,
      "metadata": {
        "id": "qmfAJ3DQR1vn"
      },
      "outputs": [],
      "source": [
        "reviews1 = reviews(\n",
        "    'com.telkom.tracencare',\n",
        "    count = 1000,\n",
        "    lang='id',\n",
        "    country='id',\n",
        "    sort=Sort.NEWEST,\n",
        "    continuation_token=None\n",
        ")"
      ]
    },
    {
      "cell_type": "code",
      "execution_count": null,
      "metadata": {
        "id": "1C0AYIuVfy51"
      },
      "outputs": [],
      "source": [
        "list1 = list(reviews1)\n",
        "list1.pop(1)\n",
        "[list1] = list1"
      ]
    },
    {
      "cell_type": "code",
      "execution_count": null,
      "metadata": {
        "id": "tc0F22drSOt3"
      },
      "outputs": [],
      "source": [
        "df = pd.DataFrame(np.array(list1),columns=['review'])\n",
        "df = df.join(pd.DataFrame(df.pop('review').tolist()))\n",
        "df"
      ]
    },
    {
      "cell_type": "markdown",
      "metadata": {
        "id": "HwyKFgXkhXvy"
      },
      "source": [
        "#2. Data Preprocessing"
      ]
    },
    {
      "cell_type": "code",
      "execution_count": null,
      "metadata": {
        "id": "pe5z9dGkkVHZ"
      },
      "outputs": [],
      "source": [
        "#Check if there are any null values\n",
        "data_v1 = df[['content']]\n",
        "data_v1.isnull().sum()"
      ]
    },
    {
      "cell_type": "code",
      "execution_count": null,
      "metadata": {
        "id": "l0JH63_Fo2Dr"
      },
      "outputs": [],
      "source": [
        "def preprocess(sentence):\n",
        "  sentence=str(sentence)\n",
        "  sentence = sentence.lower()\n",
        "  sentence=sentence.replace('{html}',\"\") \n",
        "  cleanr = re.compile('<.*?>')\n",
        "  cleantext = re.sub(cleanr, '', sentence)\n",
        "  rem_url=re.sub(r'http\\S+', '',cleantext)\n",
        "  rem_num = re.sub('[0-9]+', '', rem_url)\n",
        "  tokenizer = RegexpTokenizer(r'\\w+')\n",
        "  tokens = tokenizer.tokenize(rem_num)  \n",
        "  filtered_words = [w for w in tokens if len(w) > 2]\n",
        "  stem_words=[stemmer.stem(w) for w in filtered_words]\n",
        "  return \" \".join(filtered_words)\n",
        "data_v1['content']=data_v1['content'].map(lambda s:preprocess(s)) "
      ]
    },
    {
      "cell_type": "code",
      "execution_count": null,
      "metadata": {
        "id": "1xeMMruZQ1fV"
      },
      "outputs": [],
      "source": [
        "data_v1.replace(r'^\\s*$', np.nan, regex=True, inplace = True)\n",
        "data_v1 = data_v1.dropna()"
      ]
    },
    {
      "cell_type": "code",
      "execution_count": null,
      "metadata": {
        "id": "g8Je6L4NmfQb"
      },
      "outputs": [],
      "source": [
        "data_v1.to_excel('data.xlsx')"
      ]
    },
    {
      "cell_type": "markdown",
      "metadata": {
        "id": "ZJlbjCyEHkMg"
      },
      "source": [
        "#2.1. Data Pre-processing (Setelah labelisasi)"
      ]
    },
    {
      "cell_type": "code",
      "execution_count": null,
      "metadata": {
        "id": "LLx56t6HAIIL"
      },
      "outputs": [],
      "source": [
        "data_v2 = pd.read_csv('data15.csv')"
      ]
    },
    {
      "cell_type": "code",
      "execution_count": null,
      "metadata": {
        "id": "uLK6v4BsAaG2"
      },
      "outputs": [],
      "source": [
        "data_v2 = data_v2.dropna()"
      ]
    },
    {
      "cell_type": "code",
      "execution_count": null,
      "metadata": {
        "id": "gejIJFVOAhe9",
        "colab": {
          "base_uri": "https://localhost:8080/"
        },
        "outputId": "3fa14937-827b-4693-c3d4-6497ea904977"
      },
      "outputs": [
        {
          "output_type": "execute_result",
          "data": {
            "text/plain": [
              "0       0\n",
              "1       1\n",
              "2       0\n",
              "3       1\n",
              "4       0\n",
              "       ..\n",
              "1495    0\n",
              "1496    0\n",
              "1497    1\n",
              "1498    0\n",
              "1499    1\n",
              "Name: Bana, Length: 1500, dtype: int64"
            ]
          },
          "metadata": {},
          "execution_count": 4
        }
      ],
      "source": [
        "data_v2.pop('Rizaldi')\n",
        "data_v2.pop('Joule')\n",
        "data_v2.pop('Bana')"
      ]
    },
    {
      "cell_type": "code",
      "execution_count": null,
      "metadata": {
        "id": "_JCSsaIWcGAP",
        "colab": {
          "base_uri": "https://localhost:8080/",
          "height": 143
        },
        "outputId": "a43e17c4-b3bf-49b4-9f88-bdaaf797ad94"
      },
      "outputs": [
        {
          "output_type": "execute_result",
          "data": {
            "text/plain": [
              "          content\n",
              "Sentimen         \n",
              "0             584\n",
              "1             916"
            ],
            "text/html": [
              "\n",
              "  <div id=\"df-bca544d2-02c3-4a26-a937-b63ce4558560\">\n",
              "    <div class=\"colab-df-container\">\n",
              "      <div>\n",
              "<style scoped>\n",
              "    .dataframe tbody tr th:only-of-type {\n",
              "        vertical-align: middle;\n",
              "    }\n",
              "\n",
              "    .dataframe tbody tr th {\n",
              "        vertical-align: top;\n",
              "    }\n",
              "\n",
              "    .dataframe thead th {\n",
              "        text-align: right;\n",
              "    }\n",
              "</style>\n",
              "<table border=\"1\" class=\"dataframe\">\n",
              "  <thead>\n",
              "    <tr style=\"text-align: right;\">\n",
              "      <th></th>\n",
              "      <th>content</th>\n",
              "    </tr>\n",
              "    <tr>\n",
              "      <th>Sentimen</th>\n",
              "      <th></th>\n",
              "    </tr>\n",
              "  </thead>\n",
              "  <tbody>\n",
              "    <tr>\n",
              "      <th>0</th>\n",
              "      <td>584</td>\n",
              "    </tr>\n",
              "    <tr>\n",
              "      <th>1</th>\n",
              "      <td>916</td>\n",
              "    </tr>\n",
              "  </tbody>\n",
              "</table>\n",
              "</div>\n",
              "      <button class=\"colab-df-convert\" onclick=\"convertToInteractive('df-bca544d2-02c3-4a26-a937-b63ce4558560')\"\n",
              "              title=\"Convert this dataframe to an interactive table.\"\n",
              "              style=\"display:none;\">\n",
              "        \n",
              "  <svg xmlns=\"http://www.w3.org/2000/svg\" height=\"24px\"viewBox=\"0 0 24 24\"\n",
              "       width=\"24px\">\n",
              "    <path d=\"M0 0h24v24H0V0z\" fill=\"none\"/>\n",
              "    <path d=\"M18.56 5.44l.94 2.06.94-2.06 2.06-.94-2.06-.94-.94-2.06-.94 2.06-2.06.94zm-11 1L8.5 8.5l.94-2.06 2.06-.94-2.06-.94L8.5 2.5l-.94 2.06-2.06.94zm10 10l.94 2.06.94-2.06 2.06-.94-2.06-.94-.94-2.06-.94 2.06-2.06.94z\"/><path d=\"M17.41 7.96l-1.37-1.37c-.4-.4-.92-.59-1.43-.59-.52 0-1.04.2-1.43.59L10.3 9.45l-7.72 7.72c-.78.78-.78 2.05 0 2.83L4 21.41c.39.39.9.59 1.41.59.51 0 1.02-.2 1.41-.59l7.78-7.78 2.81-2.81c.8-.78.8-2.07 0-2.86zM5.41 20L4 18.59l7.72-7.72 1.47 1.35L5.41 20z\"/>\n",
              "  </svg>\n",
              "      </button>\n",
              "      \n",
              "  <style>\n",
              "    .colab-df-container {\n",
              "      display:flex;\n",
              "      flex-wrap:wrap;\n",
              "      gap: 12px;\n",
              "    }\n",
              "\n",
              "    .colab-df-convert {\n",
              "      background-color: #E8F0FE;\n",
              "      border: none;\n",
              "      border-radius: 50%;\n",
              "      cursor: pointer;\n",
              "      display: none;\n",
              "      fill: #1967D2;\n",
              "      height: 32px;\n",
              "      padding: 0 0 0 0;\n",
              "      width: 32px;\n",
              "    }\n",
              "\n",
              "    .colab-df-convert:hover {\n",
              "      background-color: #E2EBFA;\n",
              "      box-shadow: 0px 1px 2px rgba(60, 64, 67, 0.3), 0px 1px 3px 1px rgba(60, 64, 67, 0.15);\n",
              "      fill: #174EA6;\n",
              "    }\n",
              "\n",
              "    [theme=dark] .colab-df-convert {\n",
              "      background-color: #3B4455;\n",
              "      fill: #D2E3FC;\n",
              "    }\n",
              "\n",
              "    [theme=dark] .colab-df-convert:hover {\n",
              "      background-color: #434B5C;\n",
              "      box-shadow: 0px 1px 3px 1px rgba(0, 0, 0, 0.15);\n",
              "      filter: drop-shadow(0px 1px 2px rgba(0, 0, 0, 0.3));\n",
              "      fill: #FFFFFF;\n",
              "    }\n",
              "  </style>\n",
              "\n",
              "      <script>\n",
              "        const buttonEl =\n",
              "          document.querySelector('#df-bca544d2-02c3-4a26-a937-b63ce4558560 button.colab-df-convert');\n",
              "        buttonEl.style.display =\n",
              "          google.colab.kernel.accessAllowed ? 'block' : 'none';\n",
              "\n",
              "        async function convertToInteractive(key) {\n",
              "          const element = document.querySelector('#df-bca544d2-02c3-4a26-a937-b63ce4558560');\n",
              "          const dataTable =\n",
              "            await google.colab.kernel.invokeFunction('convertToInteractive',\n",
              "                                                     [key], {});\n",
              "          if (!dataTable) return;\n",
              "\n",
              "          const docLinkHtml = 'Like what you see? Visit the ' +\n",
              "            '<a target=\"_blank\" href=https://colab.research.google.com/notebooks/data_table.ipynb>data table notebook</a>'\n",
              "            + ' to learn more about interactive tables.';\n",
              "          element.innerHTML = '';\n",
              "          dataTable['output_type'] = 'display_data';\n",
              "          await google.colab.output.renderOutput(dataTable, element);\n",
              "          const docLink = document.createElement('div');\n",
              "          docLink.innerHTML = docLinkHtml;\n",
              "          element.appendChild(docLink);\n",
              "        }\n",
              "      </script>\n",
              "    </div>\n",
              "  </div>\n",
              "  "
            ]
          },
          "metadata": {},
          "execution_count": 5
        }
      ],
      "source": [
        "data_v2.groupby('Sentimen').count()"
      ]
    },
    {
      "cell_type": "code",
      "source": [
        "data_v2"
      ],
      "metadata": {
        "colab": {
          "base_uri": "https://localhost:8080/",
          "height": 424
        },
        "id": "CXE1ZGsDqxxC",
        "outputId": "929f5eb9-12cb-4f42-9de3-9e16cc00fcf7"
      },
      "execution_count": null,
      "outputs": [
        {
          "output_type": "execute_result",
          "data": {
            "text/plain": [
              "                                                content  Sentimen\n",
              "0          sulit masukkan tgl lahir simpan sering gagal         0\n",
              "1                 mudahan bisa cepet selsai pandemi nya         1\n",
              "2     kenapa saya tidak ada nama vaksin coronovac ja...         0\n",
              "3                         sangat membantu dan memuaskan         1\n",
              "4     terlalu rumit buat pengurusan tiket boster nya...         0\n",
              "...                                                 ...       ...\n",
              "1495  heran sama ini aplikasi saya sudah vaksin sama...         0\n",
              "1496  sangat bikin emosi buat apa aplk kalau tidak bisa         0\n",
              "1497                                           pateeeen         1\n",
              "1498  bintang dulu sebab tidak muncul sertifikat vak...         0\n",
              "1499                                 pokok mantap tenan         1\n",
              "\n",
              "[1500 rows x 2 columns]"
            ],
            "text/html": [
              "\n",
              "  <div id=\"df-912d8ad0-981e-40e7-8f56-775497bc1984\">\n",
              "    <div class=\"colab-df-container\">\n",
              "      <div>\n",
              "<style scoped>\n",
              "    .dataframe tbody tr th:only-of-type {\n",
              "        vertical-align: middle;\n",
              "    }\n",
              "\n",
              "    .dataframe tbody tr th {\n",
              "        vertical-align: top;\n",
              "    }\n",
              "\n",
              "    .dataframe thead th {\n",
              "        text-align: right;\n",
              "    }\n",
              "</style>\n",
              "<table border=\"1\" class=\"dataframe\">\n",
              "  <thead>\n",
              "    <tr style=\"text-align: right;\">\n",
              "      <th></th>\n",
              "      <th>content</th>\n",
              "      <th>Sentimen</th>\n",
              "    </tr>\n",
              "  </thead>\n",
              "  <tbody>\n",
              "    <tr>\n",
              "      <th>0</th>\n",
              "      <td>sulit masukkan tgl lahir simpan sering gagal</td>\n",
              "      <td>0</td>\n",
              "    </tr>\n",
              "    <tr>\n",
              "      <th>1</th>\n",
              "      <td>mudahan bisa cepet selsai pandemi nya</td>\n",
              "      <td>1</td>\n",
              "    </tr>\n",
              "    <tr>\n",
              "      <th>2</th>\n",
              "      <td>kenapa saya tidak ada nama vaksin coronovac ja...</td>\n",
              "      <td>0</td>\n",
              "    </tr>\n",
              "    <tr>\n",
              "      <th>3</th>\n",
              "      <td>sangat membantu dan memuaskan</td>\n",
              "      <td>1</td>\n",
              "    </tr>\n",
              "    <tr>\n",
              "      <th>4</th>\n",
              "      <td>terlalu rumit buat pengurusan tiket boster nya...</td>\n",
              "      <td>0</td>\n",
              "    </tr>\n",
              "    <tr>\n",
              "      <th>...</th>\n",
              "      <td>...</td>\n",
              "      <td>...</td>\n",
              "    </tr>\n",
              "    <tr>\n",
              "      <th>1495</th>\n",
              "      <td>heran sama ini aplikasi saya sudah vaksin sama...</td>\n",
              "      <td>0</td>\n",
              "    </tr>\n",
              "    <tr>\n",
              "      <th>1496</th>\n",
              "      <td>sangat bikin emosi buat apa aplk kalau tidak bisa</td>\n",
              "      <td>0</td>\n",
              "    </tr>\n",
              "    <tr>\n",
              "      <th>1497</th>\n",
              "      <td>pateeeen</td>\n",
              "      <td>1</td>\n",
              "    </tr>\n",
              "    <tr>\n",
              "      <th>1498</th>\n",
              "      <td>bintang dulu sebab tidak muncul sertifikat vak...</td>\n",
              "      <td>0</td>\n",
              "    </tr>\n",
              "    <tr>\n",
              "      <th>1499</th>\n",
              "      <td>pokok mantap tenan</td>\n",
              "      <td>1</td>\n",
              "    </tr>\n",
              "  </tbody>\n",
              "</table>\n",
              "<p>1500 rows × 2 columns</p>\n",
              "</div>\n",
              "      <button class=\"colab-df-convert\" onclick=\"convertToInteractive('df-912d8ad0-981e-40e7-8f56-775497bc1984')\"\n",
              "              title=\"Convert this dataframe to an interactive table.\"\n",
              "              style=\"display:none;\">\n",
              "        \n",
              "  <svg xmlns=\"http://www.w3.org/2000/svg\" height=\"24px\"viewBox=\"0 0 24 24\"\n",
              "       width=\"24px\">\n",
              "    <path d=\"M0 0h24v24H0V0z\" fill=\"none\"/>\n",
              "    <path d=\"M18.56 5.44l.94 2.06.94-2.06 2.06-.94-2.06-.94-.94-2.06-.94 2.06-2.06.94zm-11 1L8.5 8.5l.94-2.06 2.06-.94-2.06-.94L8.5 2.5l-.94 2.06-2.06.94zm10 10l.94 2.06.94-2.06 2.06-.94-2.06-.94-.94-2.06-.94 2.06-2.06.94z\"/><path d=\"M17.41 7.96l-1.37-1.37c-.4-.4-.92-.59-1.43-.59-.52 0-1.04.2-1.43.59L10.3 9.45l-7.72 7.72c-.78.78-.78 2.05 0 2.83L4 21.41c.39.39.9.59 1.41.59.51 0 1.02-.2 1.41-.59l7.78-7.78 2.81-2.81c.8-.78.8-2.07 0-2.86zM5.41 20L4 18.59l7.72-7.72 1.47 1.35L5.41 20z\"/>\n",
              "  </svg>\n",
              "      </button>\n",
              "      \n",
              "  <style>\n",
              "    .colab-df-container {\n",
              "      display:flex;\n",
              "      flex-wrap:wrap;\n",
              "      gap: 12px;\n",
              "    }\n",
              "\n",
              "    .colab-df-convert {\n",
              "      background-color: #E8F0FE;\n",
              "      border: none;\n",
              "      border-radius: 50%;\n",
              "      cursor: pointer;\n",
              "      display: none;\n",
              "      fill: #1967D2;\n",
              "      height: 32px;\n",
              "      padding: 0 0 0 0;\n",
              "      width: 32px;\n",
              "    }\n",
              "\n",
              "    .colab-df-convert:hover {\n",
              "      background-color: #E2EBFA;\n",
              "      box-shadow: 0px 1px 2px rgba(60, 64, 67, 0.3), 0px 1px 3px 1px rgba(60, 64, 67, 0.15);\n",
              "      fill: #174EA6;\n",
              "    }\n",
              "\n",
              "    [theme=dark] .colab-df-convert {\n",
              "      background-color: #3B4455;\n",
              "      fill: #D2E3FC;\n",
              "    }\n",
              "\n",
              "    [theme=dark] .colab-df-convert:hover {\n",
              "      background-color: #434B5C;\n",
              "      box-shadow: 0px 1px 3px 1px rgba(0, 0, 0, 0.15);\n",
              "      filter: drop-shadow(0px 1px 2px rgba(0, 0, 0, 0.3));\n",
              "      fill: #FFFFFF;\n",
              "    }\n",
              "  </style>\n",
              "\n",
              "      <script>\n",
              "        const buttonEl =\n",
              "          document.querySelector('#df-912d8ad0-981e-40e7-8f56-775497bc1984 button.colab-df-convert');\n",
              "        buttonEl.style.display =\n",
              "          google.colab.kernel.accessAllowed ? 'block' : 'none';\n",
              "\n",
              "        async function convertToInteractive(key) {\n",
              "          const element = document.querySelector('#df-912d8ad0-981e-40e7-8f56-775497bc1984');\n",
              "          const dataTable =\n",
              "            await google.colab.kernel.invokeFunction('convertToInteractive',\n",
              "                                                     [key], {});\n",
              "          if (!dataTable) return;\n",
              "\n",
              "          const docLinkHtml = 'Like what you see? Visit the ' +\n",
              "            '<a target=\"_blank\" href=https://colab.research.google.com/notebooks/data_table.ipynb>data table notebook</a>'\n",
              "            + ' to learn more about interactive tables.';\n",
              "          element.innerHTML = '';\n",
              "          dataTable['output_type'] = 'display_data';\n",
              "          await google.colab.output.renderOutput(dataTable, element);\n",
              "          const docLink = document.createElement('div');\n",
              "          docLink.innerHTML = docLinkHtml;\n",
              "          element.appendChild(docLink);\n",
              "        }\n",
              "      </script>\n",
              "    </div>\n",
              "  </div>\n",
              "  "
            ]
          },
          "metadata": {},
          "execution_count": 6
        }
      ]
    },
    {
      "cell_type": "code",
      "execution_count": null,
      "metadata": {
        "id": "2iC6hrDKerzc"
      },
      "outputs": [],
      "source": [
        "from sklearn.utils import shuffle\n",
        "data_v2 = shuffle(data_v2, random_state = 1)"
      ]
    },
    {
      "cell_type": "code",
      "source": [
        "data_v2"
      ],
      "metadata": {
        "colab": {
          "base_uri": "https://localhost:8080/",
          "height": 424
        },
        "id": "SUhjeTIMlMVG",
        "outputId": "2475167d-b0ad-4cab-9a8d-fe37bf50ccae"
      },
      "execution_count": null,
      "outputs": [
        {
          "output_type": "execute_result",
          "data": {
            "text/plain": [
              "                                                content  Sentimen\n",
              "91    saya tdk bisa log padahal saya gunakan sama de...         0\n",
              "75    aplikasi anjeng mau klaim sertifikat aja susah...         0\n",
              "1264                       bagus sekali sangat membanty         1\n",
              "330                                                godd         1\n",
              "1349                                             unumvv         1\n",
              "...                                                 ...       ...\n",
              "715   aplikasi ini sangat berguna bagi semua orang t...         1\n",
              "905                     sudah punya aplikasi tapi ilang         1\n",
              "1096                        terimksih moga updet melulu         1\n",
              "235                                               ribet         0\n",
              "1061                                 aplikasinya mantap         1\n",
              "\n",
              "[1500 rows x 2 columns]"
            ],
            "text/html": [
              "\n",
              "  <div id=\"df-3fc25a6e-a7ed-43ce-88f1-97baf3126226\">\n",
              "    <div class=\"colab-df-container\">\n",
              "      <div>\n",
              "<style scoped>\n",
              "    .dataframe tbody tr th:only-of-type {\n",
              "        vertical-align: middle;\n",
              "    }\n",
              "\n",
              "    .dataframe tbody tr th {\n",
              "        vertical-align: top;\n",
              "    }\n",
              "\n",
              "    .dataframe thead th {\n",
              "        text-align: right;\n",
              "    }\n",
              "</style>\n",
              "<table border=\"1\" class=\"dataframe\">\n",
              "  <thead>\n",
              "    <tr style=\"text-align: right;\">\n",
              "      <th></th>\n",
              "      <th>content</th>\n",
              "      <th>Sentimen</th>\n",
              "    </tr>\n",
              "  </thead>\n",
              "  <tbody>\n",
              "    <tr>\n",
              "      <th>91</th>\n",
              "      <td>saya tdk bisa log padahal saya gunakan sama de...</td>\n",
              "      <td>0</td>\n",
              "    </tr>\n",
              "    <tr>\n",
              "      <th>75</th>\n",
              "      <td>aplikasi anjeng mau klaim sertifikat aja susah...</td>\n",
              "      <td>0</td>\n",
              "    </tr>\n",
              "    <tr>\n",
              "      <th>1264</th>\n",
              "      <td>bagus sekali sangat membanty</td>\n",
              "      <td>1</td>\n",
              "    </tr>\n",
              "    <tr>\n",
              "      <th>330</th>\n",
              "      <td>godd</td>\n",
              "      <td>1</td>\n",
              "    </tr>\n",
              "    <tr>\n",
              "      <th>1349</th>\n",
              "      <td>unumvv</td>\n",
              "      <td>1</td>\n",
              "    </tr>\n",
              "    <tr>\n",
              "      <th>...</th>\n",
              "      <td>...</td>\n",
              "      <td>...</td>\n",
              "    </tr>\n",
              "    <tr>\n",
              "      <th>715</th>\n",
              "      <td>aplikasi ini sangat berguna bagi semua orang t...</td>\n",
              "      <td>1</td>\n",
              "    </tr>\n",
              "    <tr>\n",
              "      <th>905</th>\n",
              "      <td>sudah punya aplikasi tapi ilang</td>\n",
              "      <td>1</td>\n",
              "    </tr>\n",
              "    <tr>\n",
              "      <th>1096</th>\n",
              "      <td>terimksih moga updet melulu</td>\n",
              "      <td>1</td>\n",
              "    </tr>\n",
              "    <tr>\n",
              "      <th>235</th>\n",
              "      <td>ribet</td>\n",
              "      <td>0</td>\n",
              "    </tr>\n",
              "    <tr>\n",
              "      <th>1061</th>\n",
              "      <td>aplikasinya mantap</td>\n",
              "      <td>1</td>\n",
              "    </tr>\n",
              "  </tbody>\n",
              "</table>\n",
              "<p>1500 rows × 2 columns</p>\n",
              "</div>\n",
              "      <button class=\"colab-df-convert\" onclick=\"convertToInteractive('df-3fc25a6e-a7ed-43ce-88f1-97baf3126226')\"\n",
              "              title=\"Convert this dataframe to an interactive table.\"\n",
              "              style=\"display:none;\">\n",
              "        \n",
              "  <svg xmlns=\"http://www.w3.org/2000/svg\" height=\"24px\"viewBox=\"0 0 24 24\"\n",
              "       width=\"24px\">\n",
              "    <path d=\"M0 0h24v24H0V0z\" fill=\"none\"/>\n",
              "    <path d=\"M18.56 5.44l.94 2.06.94-2.06 2.06-.94-2.06-.94-.94-2.06-.94 2.06-2.06.94zm-11 1L8.5 8.5l.94-2.06 2.06-.94-2.06-.94L8.5 2.5l-.94 2.06-2.06.94zm10 10l.94 2.06.94-2.06 2.06-.94-2.06-.94-.94-2.06-.94 2.06-2.06.94z\"/><path d=\"M17.41 7.96l-1.37-1.37c-.4-.4-.92-.59-1.43-.59-.52 0-1.04.2-1.43.59L10.3 9.45l-7.72 7.72c-.78.78-.78 2.05 0 2.83L4 21.41c.39.39.9.59 1.41.59.51 0 1.02-.2 1.41-.59l7.78-7.78 2.81-2.81c.8-.78.8-2.07 0-2.86zM5.41 20L4 18.59l7.72-7.72 1.47 1.35L5.41 20z\"/>\n",
              "  </svg>\n",
              "      </button>\n",
              "      \n",
              "  <style>\n",
              "    .colab-df-container {\n",
              "      display:flex;\n",
              "      flex-wrap:wrap;\n",
              "      gap: 12px;\n",
              "    }\n",
              "\n",
              "    .colab-df-convert {\n",
              "      background-color: #E8F0FE;\n",
              "      border: none;\n",
              "      border-radius: 50%;\n",
              "      cursor: pointer;\n",
              "      display: none;\n",
              "      fill: #1967D2;\n",
              "      height: 32px;\n",
              "      padding: 0 0 0 0;\n",
              "      width: 32px;\n",
              "    }\n",
              "\n",
              "    .colab-df-convert:hover {\n",
              "      background-color: #E2EBFA;\n",
              "      box-shadow: 0px 1px 2px rgba(60, 64, 67, 0.3), 0px 1px 3px 1px rgba(60, 64, 67, 0.15);\n",
              "      fill: #174EA6;\n",
              "    }\n",
              "\n",
              "    [theme=dark] .colab-df-convert {\n",
              "      background-color: #3B4455;\n",
              "      fill: #D2E3FC;\n",
              "    }\n",
              "\n",
              "    [theme=dark] .colab-df-convert:hover {\n",
              "      background-color: #434B5C;\n",
              "      box-shadow: 0px 1px 3px 1px rgba(0, 0, 0, 0.15);\n",
              "      filter: drop-shadow(0px 1px 2px rgba(0, 0, 0, 0.3));\n",
              "      fill: #FFFFFF;\n",
              "    }\n",
              "  </style>\n",
              "\n",
              "      <script>\n",
              "        const buttonEl =\n",
              "          document.querySelector('#df-3fc25a6e-a7ed-43ce-88f1-97baf3126226 button.colab-df-convert');\n",
              "        buttonEl.style.display =\n",
              "          google.colab.kernel.accessAllowed ? 'block' : 'none';\n",
              "\n",
              "        async function convertToInteractive(key) {\n",
              "          const element = document.querySelector('#df-3fc25a6e-a7ed-43ce-88f1-97baf3126226');\n",
              "          const dataTable =\n",
              "            await google.colab.kernel.invokeFunction('convertToInteractive',\n",
              "                                                     [key], {});\n",
              "          if (!dataTable) return;\n",
              "\n",
              "          const docLinkHtml = 'Like what you see? Visit the ' +\n",
              "            '<a target=\"_blank\" href=https://colab.research.google.com/notebooks/data_table.ipynb>data table notebook</a>'\n",
              "            + ' to learn more about interactive tables.';\n",
              "          element.innerHTML = '';\n",
              "          dataTable['output_type'] = 'display_data';\n",
              "          await google.colab.output.renderOutput(dataTable, element);\n",
              "          const docLink = document.createElement('div');\n",
              "          docLink.innerHTML = docLinkHtml;\n",
              "          element.appendChild(docLink);\n",
              "        }\n",
              "      </script>\n",
              "    </div>\n",
              "  </div>\n",
              "  "
            ]
          },
          "metadata": {},
          "execution_count": 8
        }
      ]
    },
    {
      "cell_type": "code",
      "execution_count": null,
      "metadata": {
        "id": "hr5yT7b4EHZg"
      },
      "outputs": [],
      "source": [
        "reviews_split = data_v2['content'].to_numpy()"
      ]
    },
    {
      "cell_type": "code",
      "execution_count": null,
      "metadata": {
        "id": "S4If7xUvEExd"
      },
      "outputs": [],
      "source": [
        "all_text2 = ' '.join(reviews_split)\n",
        "# create a list of words\n",
        "words = all_text2.split()\n",
        "# Count all the words using Counter Method\n",
        "count_words = Counter(words)\n",
        "\n",
        "total_words = len(words)\n",
        "sorted_words = count_words.most_common(total_words)"
      ]
    },
    {
      "cell_type": "code",
      "execution_count": null,
      "metadata": {
        "id": "DS21-aZ0EWj4",
        "colab": {
          "base_uri": "https://localhost:8080/"
        },
        "outputId": "cd9c4c76-9908-4eaa-ac8d-77963745b406"
      },
      "outputs": [
        {
          "output_type": "stream",
          "name": "stdout",
          "text": [
            "Counter({'vaksin': 332, 'aplikasi': 253, 'saya': 236, 'sertifikat': 233, 'sangat': 224, 'bagus': 195, 'bisa': 170, 'sudah': 157, 'ini': 155, 'dan': 149, 'tidak': 135, 'membantu': 132, 'nya': 124, 'ada': 104, 'muncul': 99, 'tapi': 85, 'untuk': 85, 'mantap': 83, 'gak': 81, 'mau': 75, 'susah': 71, 'belum': 66, 'udah': 65, 'baik': 64, 'yang': 62, 'good': 61, 'aja': 60, 'padahal': 57, 'harus': 54, 'update': 50, 'ribet': 49, 'booster': 48, 'dari': 46, 'kok': 45, 'data': 45, 'klaim': 44, 'tanggal': 44, 'kenapa': 43, 'tolong': 42, 'buat': 41, 'banget': 41, 'peduli': 40, 'lagi': 40, 'lahir': 39, 'malah': 39, 'masuk': 39, 'sekali': 38, 'apk': 38, 'aplikasinya': 38, 'keluar': 38, 'lemot': 37, 'semua': 37, 'terus': 36, 'lindungi': 36, 'bikin': 35, 'jadi': 33, 'juga': 32, 'masih': 31, 'lama': 30, 'saat': 28, 'bermanfaat': 28, 'eror': 28, 'tdk': 27, 'sama': 27, 'mohon': 27, 'tgl': 27, 'download': 26, 'sdh': 26, 'lebih': 25, 'kasih': 25, 'gimana': 25, 'sampai': 25, 'berguna': 25, 'sekarang': 24, 'selalu': 24, 'orang': 24, 'dengan': 23, 'mudah': 23, 'kali': 23, 'bulan': 22, 'tahun': 22, 'kalau': 22, 'blm': 21, 'hari': 21, 'sulit': 21, 'buka': 20, 'boster': 20, 'saja': 20, 'setelah': 20, 'itu': 19, 'versi': 19, 'punya': 19, 'karena': 19, 'nik': 19, 'jelas': 19, 'kita': 19, 'bintang': 19, 'isi': 18, 'oke': 18, 'apa': 18, 'pedulilindungi': 18, 'ketiga': 17, 'error': 17, 'makin': 17, 'gagal': 17, 'terimakasih': 17, 'dapat': 17, 'jelek': 17, 'banyak': 17, 'cek': 16, 'terima': 16, 'sering': 16, 'dulu': 16, 'lah': 16, 'masa': 16, 'sertifikatnya': 16, 'kalo': 16, 'semakin': 16, 'baru': 15, 'klo': 15, 'input': 15, 'pada': 15, 'cuma': 15, 'utk': 15, 'jangan': 15, 'scan': 15, 'satu': 15, 'perbaiki': 15, 'cepat': 14, 'minta': 14, 'dalam': 14, 'kartu': 14, 'tiga': 14, 'semoga': 14, 'udh': 14, 'langsung': 13, 'buruk': 13, 'covid': 13, 'pertama': 13, 'kedua': 13, 'keren': 13, 'salah': 13, 'bener': 13, 'sih': 13, 'suruh': 13, 'ganti': 12, 'lalu': 12, 'tetap': 12, 'puas': 12, 'pake': 12, 'kurang': 12, 'pemerintah': 12, 'android': 12, 'sya': 12, 'aman': 12, 'masukin': 12, 'pakai': 12, 'mempersulit': 12, 'hilang': 12, 'kesehatan': 12, 'dah': 12, 'diperbaiki': 12, 'nama': 12, 'app': 12, 'jos': 12, 'daftar': 12, 'mulu': 11, 'coba': 11, 'akun': 11, 'sesuai': 11, 'cukup': 11, 'setiap': 11, 'email': 11, 'login': 11, 'indonesia': 11, 'nih': 11, 'benar': 11, 'kode': 11, 'dgn': 11, 'check': 11, 'sampah': 11, 'memudahkan': 10, 'perlu': 10, 'ulang': 10, 'perjalanan': 10, 'suka': 10, 'vaksinasi': 10, 'karna': 10, 'masyarakat': 10, 'kan': 10, 'dong': 10, 'rakyat': 10, 'bagaimana': 10, 'sertivikat': 10, 'terbaru': 10, 'alhamdulillah': 10, 'mall': 9, 'respon': 9, 'tambah': 9, 'info': 9, 'melihat': 9, 'vaksinnya': 9, 'terlalu': 9, 'luar': 9, 'nggak': 9, 'lengkap': 9, 'tempat': 9, 'biar': 9, 'upgrade': 9, 'dua': 9, 'waktu': 9, 'kami': 9, 'gabisa': 9, 'segera': 9, 'captcha': 9, 'deh': 8, 'katanya': 8, 'jam': 8, 'instal': 8, 'maaf': 8, 'pas': 8, 'verifikasi': 8, 'atau': 8, 'menyusahkan': 8, 'akan': 8, 'bgt': 8, 'lumayan': 8, 'seperti': 8, 'datanya': 8, 'lancar': 8, 'payah': 8, 'diupdate': 8, 'hanya': 8, 'kecewa': 8, 'lambat': 8, 'maret': 7, 'admin': 7, 'cara': 7, 'ngga': 7, 'tiket': 7, 'trus': 7, 'server': 7, 'tpi': 7, 'out': 7, 'pernah': 7, 'trs': 7, 'negara': 7, 'program': 7, 'mundur': 7, 'ketik': 7, 'lelet': 7, 'biasa': 7, 'digunakan': 7, 'apalagi': 7, 'awal': 7, 'tetapi': 7, 'best': 7, 'knp': 7, 'aku': 7, 'sedangkan': 7, 'kesini': 7, 'top': 7, 'tau': 7, 'dosis': 7, 'sampe': 7, 'ilang': 7, 'masalah': 7, 'mempermudah': 7, 'praktis': 7, 'install': 7, 'gunakan': 6, 'dlm': 6, 'sebelumnya': 6, 'geser': 6, 'sehat': 6, 'mantul': 6, 'hasil': 6, 'kluar': 6, 'nomor': 6, 'disuruh': 6, 'soalnya': 6, 'mantab': 6, 'guna': 6, 'memuaskan': 6, 'klik': 6, 'segala': 6, 'profil': 6, 'liat': 6, 'wajib': 6, 'mendownload': 6, 'unduh': 6, 'tetep': 6, 'mana': 6, 'paksin': 6, 'caranya': 6, 'diaplikasi': 6, 'kemana': 6, 'ketika': 6, 'nanti': 6, 'pun': 6, 'nice': 6, 'faksin': 6, 'hidup': 6, 'mending': 6, 'giliran': 6, 'dibuka': 6, 'krn': 6, 'pandemi': 6, 'pilihan': 6, 'butuh': 6, 'menjadi': 6, 'buang': 6, 'terpaksa': 6, 'nomer': 6, 'pengguna': 6, 'namun': 6, 'keluarga': 6, 'bukan': 6, 'gmn': 6, 'amat': 6, 'thn': 6, 'informasi': 6, 'uda': 5, 'aneh': 5, 'sertipikat': 5, 'melengkapi': 5, 'akses': 5, 'support': 5, 'lewat': 5, 'jika': 5, 'dll': 5, 'kelahiran': 5, 'gua': 5, 'ngecek': 5, 'emang': 5, 'pelayanan': 5, 'pak': 5, 'agar': 5, 'bgs': 5, 'kirim': 5, 'berfungsi': 5, 'yaa': 5, 'sertifikasi': 5, 'lain': 5, 'habis': 5, 'tlng': 5, 'adanya': 5, 'surat': 5, 'atas': 5, 'indo': 5, 'mendukung': 5, 'loading': 5, 'besok': 5, 'bingung': 5, 'claim': 5, 'jenis': 5, 'status': 5, 'blum': 5, 'enggak': 5, 'paling': 5, 'emosi': 5, 'april': 5, 'bukti': 5, 'sendiri': 5, 'bsa': 5, 'gini': 5, 'tak': 5, 'ngeselin': 5, 'hrs': 5, 'the': 5, 'simpel': 5, 'pdhl': 5, 'belom': 5, 'otp': 5, 'menu': 4, 'kemenkes': 4, 'smoga': 4, 'membatu': 4, 'penggunaan': 4, 'ikut': 4, 'akhirnya': 4, 'membingungkan': 4, 'bug': 4, 'hampir': 4, 'sinyal': 4, 'pasti': 4, 'pencet': 4, 'tiba': 4, 'sebagai': 4, 'berapa': 4, 'kemarin': 4, 'min': 4, 'manual': 4, 'tanpa': 4, 'ngisi': 4, 'mencari': 4, 'balik': 4, 'kena': 4, 'bantu': 4, 'riwayat': 4, 'cari': 4, 'membuat': 4, 'date': 4, 'pelayanannya': 4, 'perbaikan': 4, 'gampang': 4, 'ktp': 4, 'apps': 4, 'knapa': 4, 'jawab': 4, 'mendapatkan': 4, 'bukannya': 4, 'terbaik': 4, 'trimakasih': 4, 'sumpah': 4, 'spt': 4, 'virus': 4, 'berbeda': 4, 'agak': 4, 'pusing': 4, 'menit': 4, 'penting': 4, 'bantuan': 4, 'nunggu': 4, 'bagi': 4, 'notif': 4, 'not': 4, 'mudik': 4, 'petugas': 4, 'mati': 4, 'sebelum': 4, 'apl': 4, 'syarat': 4, 'terjadi': 4, 'dipersulit': 4, 'kesulitan': 4, 'kaya': 4, 'diri': 4, 'persulit': 4, 'melalui': 4, 'makan': 4, 'bobrok': 4, 'kadang': 4, 'smua': 4, 'lbh': 4, 'lupa': 4, 'bosster': 4, 'februari': 4, 'dpt': 4, 'rumit': 4, 'permudah': 4, 'seminggu': 4, 'log': 3, 'anjeng': 3, 'kek': 3, 'lihat': 3, 'diklaim': 3, 'gambar': 3, 'dibutuhkan': 3, 'ttp': 3, 'percuma': 3, 'nyusahin': 3, 'perbaharui': 3, 'masak': 3, 'berbulan': 3, 'mantaap': 3, 'ttl': 3, 'harusnya': 3, 'telepon': 3, 'mantappp': 3, 'melakukan': 3, 'gax': 3, 'alhamdulilah': 3, 'tinggal': 3, 'dicoba': 3, 'beberapa': 3, 'code': 3, 'repot': 3, 'sukses': 3, 'dibikin': 3, 'mencoba': 3, 'baguss': 3, 'foto': 3, 'dipake': 3, 'donk': 3, 'like': 3, 'tulis': 3, 'enak': 3, 'tua': 3, 'ruang': 3, 'mah': 3, 'publik': 3, 'akurat': 3, 'membuka': 3, 'ampun': 3, 'yah': 3, 'kamera': 3, 'belakang': 3, 'rusak': 3, 'informasinya': 3, 'bawa': 3, 'pengisian': 3, 'siapa': 3, 'kah': 3, 'kalian': 3, 'jga': 3, 'tiap': 3, 'aktivitas': 3, 'jaya': 3, 'nambah': 3, 'gitu': 3, 'menyebalkan': 3, 'parah': 3, 'capek': 3, 'semula': 3, 'layanan': 3, 'tahu': 3, 'milih': 3, 'pembaruan': 3, 'beli': 3, 'donlot': 3, 'gajelas': 3, 'maka': 3, 'pula': 3, 'ehac': 3, 'sms': 3, 'kak': 3, 'semuanya': 3, 'nongol': 3, 'found': 3, 'oleh': 3, 'anak': 3, 'bgus': 3, 'memang': 3, 'memori': 3, 'maju': 3, 'kagak': 3, 'diupgrade': 3, 'angel': 3, 'memperbaiki': 3, 'divaksin': 3, 'awalnya': 3, 'wabah': 3, 'tunggu': 3, 'berhasil': 3, 'berkali': 3, 'tersebut': 3, 'taik': 3, 'minggu': 3, 'bahasa': 3, 'terutama': 3, 'memiliki': 3, 'jadinya': 3, 'thanks': 3, 'mengapa': 3, 'internal': 3, 'engga': 3, 'menggunakan': 3, 'hapus': 3, 'ingin': 3, 'for': 3, 'sekian': 3, 'terbit': 3, 'masukkan': 3, 'diinstal': 3, 'lokasi': 3, 'vaksinya': 3, 'anggota': 3, 'urus': 3, 'selesai': 3, 'blom': 3, 'aturan': 3, 'pribadi': 3, 'memilih': 3, 'bla': 3, 'per': 3, 'istri': 3, 'lolll': 3, 'niat': 3, 'pokok': 3, 'chat': 3, 'bangke': 3, 'awikwok': 3, 'nyampe': 2, 'pakek': 2, 'developer': 2, 'dilihat': 2, 'fasilitas': 2, 'gmana': 2, 'nulis': 2, 'ratusan': 2, 'nyari': 2, 'saran': 2, 'capcha': 2, 'serfitikat': 2, 'okey': 2, 'kmrn': 2, 'disimpan': 2, 'jaringan': 2, 'nge': 2, 'warga': 2, 'masuknya': 2, 'usah': 2, 'umur': 2, 'tepat': 2, 'mengecek': 2, 'informatif': 2, 'tmn': 2, 'maksud': 2, 'jadikan': 2, 'ngak': 2, 'menerus': 2, 'kepentingan': 2, 'alesan': 2, 'drop': 2, 'puskesmas': 2, 'kembali': 2, 'merasakan': 2, 'wkwk': 2, 'web': 2, 'faskes': 2, 'ortu': 2, 'angka': 2, 'pokoknya': 2, 'urusan': 2, 'kerja': 2, 'fitur': 2, 'masukan': 2, 'lahirnya': 2, 'cuman': 2, 'mintain': 2, 'koq': 2, 'bicara': 2, 'plis': 2, 'jujur': 2, 'jesus': 2, 'mencet': 2, 'sampek': 2, 'hadeh': 2, 'sehingga': 2, 'dikasih': 2, 'terdeteksi': 2, 'mntap': 2, 'wah': 2, 'angelll': 2, 'napa': 2, 'tai': 2, 'supaya': 2, 'terdaftar': 2, 'ikuti': 2, 'oky': 2, 'lhir': 2, 'sja': 2, 'loding': 2, 'apakah': 2, 'bagian': 2, 'ditingkatkan': 2, 'bermamfaat': 2, 'gedung': 2, 'mngkin': 2, 'dipakai': 2, 'vksin': 2, 'skrg': 2, 'tingkatkan': 2, 'seorang': 2, 'harinya': 2, 'beri': 2, 'aamiin': 2, 'iya': 2, 'diunduh': 2, 'mesti': 2, 'bbrpa': 2, 'kinerjanya': 2, 'kebanyakan': 2, 'senang': 2, 'trdaftar': 2, 'besar': 2, 'solusinya': 2, 'gila': 2, 'berubah': 2, 'hijau': 2, 'sdngkan': 2, 'pikir': 2, 'sistem': 2, 'goood': 2, 'bro': 2, 'musti': 2, 'oppo': 2, 'sanggat': 2, 'buktinya': 2, 'cepet': 2, 'dapet': 2, 'nampil': 2, 'pusat': 2, 'wes': 2, 'berangkat': 2, 'sekolah': 2, 'mengisi': 2, 'simpan': 2, 'anda': 2, 'mengecewakan': 2, 'perbaikin': 2, 'aplikasiny': 2, 'kli': 2, 'bos': 2, 'josss': 2, 'apaan': 2, 'okk': 2, 'naik': 2, 'kereta': 2, 'cocok': 2, 'keluhan': 2, 'bagusan': 2, 'internet': 2, 'kendala': 2, 'diakses': 2, 'bekerja': 2, 'buatan': 2, 'ruwet': 2, 'tanggapan': 2, 'mikir': 2, 'gede': 2, 'umum': 2, 'mantapp': 2, 'pelindung': 2, 'harap': 2, 'tutup': 2, 'vasin': 2, 'fiturnya': 2, 'rasa': 2, 'mslh': 2, 'pke': 2, 'skrng': 2, 'baca': 2, 'para': 2, 'komentar': 2, 'hal': 2, 'uang': 2, 'tombol': 2, 'perhatianya': 2, 'esok': 2, 'ditambah': 2, 'adik': 2, 'doang': 2, 'kesel': 2, 'lindung': 2, 'sngt': 2, 'lansia': 2, 'dibantu': 2, 'teman': 2, 'msh': 2, 'kolom': 2, 'tanya': 2, 'gud': 2, 'seluruh': 2, 'provinsi': 2, 'tolol': 2, 'model': 2, 'menjaga': 2, 'hac': 2, 'internasional': 2, 'sngat': 2, 'hotel': 2, 'takut': 2, 'puasa': 2, 'ginian': 2, 'website': 2, 'negeri': 2, 'tanggalnya': 2, 'kebelakang': 2, 'erorr': 2, 'diperlukan': 2, 'jauh': 2, 'cetak': 2, 'dwonload': 2, 'offline': 2, 'actual': 2, 'keluar²': 2, 'disuntik': 2, 'bnyk': 2, 'inggris': 2, 'aplikasih': 2, 'untk': 2, 'memasuki': 2, 'kuota': 2, 'ikutin': 2, 'tdak': 2, 'jdi': 2, 'mna': 2, 'bulanan': 2, 'sebenarnya': 2, 'baterenya': 2, 'plus': 2, 'meskipun': 2, 'goodjob': 2, 'cpt': 2, 'pdahal': 2, 'kebawah': 2, 'tanggap': 2, 'hri': 2, 'manfaat': 2, 'menyenangkan': 2, 'tentang': 2, 'knpa': 2, 'serta': 2, 'memberikan': 2, 'sistim': 2, 'begitu': 2, 'tersedia': 2, 'edit': 2, 'terimaksih': 2, 'kemaren': 2, 'satgas': 2, 'diperbaharui': 2, 'dipercepat': 2, 'just': 2, 'gbs': 2, 'mencetak': 2, 'profesional': 2, 'petugasnya': 2, 'samsung': 2, 'boosternya': 2, 'dihapus': 2, 'bahwa': 2, 'maklum': 2, 'mama': 2, 'babi': 2, 'simple': 2, 'melaksanakan': 2, 'fungsional': 2, 'sono': 2, 'sempurna': 2, 'kawan': 2, 'terbantu': 2, 'mari': 2, 'bersama': 2, 'allah': 2, 'mksh': 2, 'pengurusan': 2, 'dirumah': 2, 'laporan': 2, 'kasian': 2, 'kuning': 2, 'god': 2, 'sory': 2, 'tulisan': 2, 'justru': 2, 'makasih': 2, 'kesalahan': 2, 'mulai': 2, 'asli': 2, 'nmr': 2, 'dlu': 2, 'kmrin': 2, 'keterangannya': 2, 'lgi': 2, 'korona': 2, 'manusia': 2, 'siap': 2, 'kentang': 2, 'mengulang': 2, 'mengunduh': 2, 'valid': 2, 'tanda': 2, 'lanjut': 2, 'lhr': 2, 'scroll': 2, 'lbih': 2, 'gunanya': 2, 'mengganggu': 2, 'dimasukkan': 2, 'wakanda': 2, 'ternyata': 2, 'daftarkan': 1, 'petunjuknya': 1, 'otak': 1, 'jan': 1, 'kau': 1, 'membanty': 1, 'godd': 1, 'unumvv': 1, 'solusikah': 1, 'drpd': 1, 'diperbarui': 1, 'vaksinku': 1, 'padahl': 1, 'mohn': 1, 'bosyok': 1, 'alangkah': 1, 'lamanya': 1, 'ditahun': 1, 'tsb': 1, 'pemihan': 1, 'amiiinnn': 1, 'sementara': 1, 'gatau': 1, 'gapernah': 1, 'ikutan': 1, 'ngasih': 1, 'rating': 1, 'boĺà': 1, 'paksinasi': 1, 'area': 1, 'menunggu': 1, 'apaaan': 1, 'vacsin': 1, 'menyesuaikan': 1, 'aneeeeh': 1, 'inlu': 1, 'recaptcha': 1, 'assalamualaikum': 1, 'rrtooiok': 1, 'pelayananya': 1, 'haruskan': 1, 'faktanya': 1, 'muterw': 1, 'mantao': 1, 'petunjuk': 1, 'mydah': 1, 'merepotkan': 1, 'bayangkan': 1, 'selain': 1, 'sehatnya': 1, 'terimakaaih': 1, 'aplikasnya': 1, 'guys': 1, 'keseringan': 1, 'disemua': 1, 'sitem': 1, 'mndukung': 1, 'daerah': 1, 'antarmuka': 1, 'dipahami': 1, 'selamat': 1, 'mlm': 1, 'pagi': 1, 'bareng': 1, 'polsek': 1, 'ciledug': 1, 'sdgkan': 1, 'mantaf': 1, 'abal': 1, 'tercatat': 1, 'jgn': 1, 'standar': 1, 'sempurnah': 1, 'diikuti': 1, 'dibenerin': 1, 'close': 1, 'hpnya': 1, 'jiwa': 1, 'goof': 1, 'tes': 1, 'iklan': 1, 'bertubi': 1, 'tubi': 1, 'berbagai': 1, 'medis': 1, 'blokir': 1, 'sekrang': 1, 'entahpenginput': 1, 'dinkes': 1, 'surabaya': 1, 'beres': 1, 'troble': 1, 'sinkron': 1, 'lapangan': 1, 'terkena': 1, 'wkwkwk': 1, 'sinovac': 1, 'pfizer': 1, 'mungkin': 1, 'astrazeneca': 1, 'identitas': 1, 'nyusahkan': 1, 'chatboot': 1, 'hasilnya': 1, 'nihil': 1, 'print': 1, 'syaa': 1, 'mohoh': 1, 'simplekan': 1, 'jleg': 1, 'mucul': 1, 'masyarakt': 1, 'keterangan': 1, 'pengen': 1, 'dipermudah': 1, 'nelpon': 1, 'dvd': 1, 'etc': 1, 'dyf': 1, 'pencerahannya': 1, 'games': 1, 'seru': 1, 'muncul²': 1, 'contoh': 1, 'jaga': 1, 'tgal': 1, 'servernya': 1, 'itupun': 1, 'intinya': 1, 'toh': 1, 'seenaknya': 1, 'ngalor': 1, 'ngidul': 1, 'nyesel': 1, 'astaga': 1, 'lemotttt': 1, 'berintegritas': 1, 'takuttuhan': 1, 'sayajerlius': 1, 'marbun': 1, 'amingbu': 1, 'kempor': 1, 'bleset': 1, 'sitik': 1, 'nfc': 1, 'jakarta': 1, 'berpergian': 1, 'betanya': 1, 'penuh': 1, 'terbatas': 1, 'ribettt': 1, 'benr': 1, 'fake': 1, 'nuyasahin': 1, 'rakyaaaat': 1, 'sarankan': 1, 'memilikinya': 1, 'lingkungan': 1, 'josssss': 1, 'terhubung': 1, 'bentuk': 1, 'kegiatan': 1, 'jasmani': 1, 'keseluruhannya': 1, 'penetapan': 1, 'atur': 1, 'pisahkan': 1, 'efisian': 1, 'yayaya': 1, 'perlukan': 1, 'gmail': 1, 'pencarian': 1, 'abgret': 1, 'daptar': 1, 'kantor': 1, 'ush': 1, 'diminta': 1, 'mengkalim': 1, 'mengubungi': 1, 'menanyakan': 1, 'merah': 1, 'siiii': 1, 'pateeeen': 1, 'bad': 1, 'seerifikat': 1, 'susahy': 1, 'proyek': 1, 'donlwod': 1, 'sgat': 1, 'nyasedikit': 1, 'kekurangannya': 1, 'ngezooom': 1, 'terpotong': 1, 'btng': 1, 'skaligus': 1, 'syangnya': 1, 'barkotnya': 1, 'nyuruh': 1, 'stelah': 1, 'printah': 1, 'jelaskn': 1, 'ltk': 1, 'ksalahanya': 1, 'uinstalnya': 1, 'politik': 1, 'yuhuuuuuu': 1, 'sayangnya': 1, 'ambil': 1, 'hpku': 1, 'memperbarui': 1, 'bntu': 1, 'kepake': 1, 'masalahnya': 1, 'pull': 1, 'mks': 1, 'telat': 1, 'alham': 1, 'dulilah': 1, 'stasiun': 1, 'siippp': 1, 'coy': 1, 'laksanakan': 1, 'tapii': 1, 'nnti': 1, 'nyatanya': 1, 'salahkan': 1, 'nakes': 1, 'menjalankan': 1, 'menyengsarakan': 1, 'program²': 1, 'laknatuallah': 1, 'berserta': 1, 'mempermainkan': 1, 'jelata': 1, 'lemoet': 1, 'swab': 1, 'persimple': 1, 'dimengerti': 1, 'hongkong': 1, 'nmengisi': 1, 'terbang': 1, 'mmbntu': 1, 'smpe': 1, 'buruh': 1, 'klening': 1, 'serfis': 1, 'matahari': 1, 'tubuhku': 1, 'kekuatan': 1, 'menafkahi': 1, 'kluarga': 1, 'kerennnn': 1, 'aanagat': 1, 'mantapppp': 1, 'jlas': 1, 'gegara': 1, 'luncurin': 1, 'aplikasine': 1, 'bapuk': 1, 'ora': 1, 'iso': 1, 'vaksine': 1, 'terdowload': 1, 'korea': 1, 'terverifikasi': 1, 'tercetak': 1, 'ngeklik': 1, 'menarik': 1, 'kompatibel': 1, 'balikin': 1, 'lemooot': 1, 'mancaaaaap': 1, 'urutannya': 1, 'terbalik': 1, 'walau': 1, 'tadi': 1, 'sempat': 1, 'kesal': 1, 'faksinya': 1, 'pelajarin': 1, 'kedepen': 1, 'tolonglah': 1, 'manualin': 1, 'biikin': 1, 'kerjaan': 1, 'cape': 1, 'ngekliknya': 1, 'setaleh': 1, 'sdgkn': 1, 'stlh': 1, 'dikembalikan': 1, 'orng': 1, 'tengah': 1, 'kmbl': 1, 'gmbr': 1, 'thx': 1, 'comment': 1, 'perbahuruanya': 1, 'ggl': 1, 'terunda': 1, 'chk': 1, 'bgussss': 1, 'rmh': 1, 'sedikit': 1, 'terbebas': 1, 'pembodohan': 1, 'wow': 1, 'otpnya': 1, 'pasca': 1, 'tanyakan': 1, 'diubah': 1, 'sebaiknya': 1, 'disediakan': 1, 'opsi': 1, 'berumur': 1, 'sebanyak': 1, 'jumlah': 1, 'pening': 1, 'selang': 1, 'bebrapa': 1, 'sodara': 1, 'manapun': 1, 'okokok': 1, 'soa': 1, 'joooooosssss': 1, 'kuciwo': 1, 'base': 1, 'waktunya': 1, 'digitalisasi': 1, 'desember': 1, 'link': 1, 'kuliah': 1, 'hitung': 1, 'berpuluh': 1, 'taun': 1, 'ribed': 1, 'kata': 1, 'perangkat': 1, 'kompetible': 1, 'dbantu': 1, 'ksh': 1, 'jossssss': 1, 'bugus': 1, 'apkikasi': 1, 'lumayang': 1, 'dowlod': 1, 'lindungin': 1, 'kbaikkan': 1, 'menghindar': 1, 'chatbot': 1, 'intruksikan': 1, 'serifikat': 1, 'bantuannya': 1, 'pekerjaan': 1, 'taiiiiii': 1, 'hkdor': 1, 'dikirimi': 1, 'berlaku': 1, 'ditungguin': 1, 'kadaluarsa': 1, 'sang': 1, 'raja': 1, 'perdiksi': 1, 'menjal': 1, 'kedepannnya': 1, 'lemoot': 1, 'bodoh': 1, 'men': 1, 'sesuaikan': 1, 'masi': 1, 'buruan': 1, 'beruntung': 1, 'obgt': 1, 'setlh': 1, 'upgrad': 1, 'stressss': 1, 'tlong': 1, 'memaksakan': 1, 'user': 1, 'solusi': 1, 'menyelesaikan': 1, 'sala': 1, 'berusaha': 1, 'api': 1, 'ragu': 1, 'takutnya': 1, 'scene': 1, 'penjelasannya': 1, 'batin': 1, 'harga': 1, 'mutu': 1, 'nggk': 1, 'nyoba': 1, 'masok': 1, 'terooos': 1, 'labil': 1, 'pembaharuan': 1, 'puduli': 1, 'bisnis': 1, 'gasimple': 1, 'kereeen': 1, 'cai': 1, 'seng': 1, 'ade': 1, 'apene': 1, 'kuat': 1, 'disayangkan': 1, 'enakan': 1, 'becus': 1, 'sampurna': 1, 'beybeeh': 1, 'januari': 1, 'juta': 1, 'sedunia': 1, 'lag': 1, 'pdhal': 1, 'buildernya': 1, 'kelas': 1, 'nasional': 1, 'menyamakan': 1, 'benahi': 1, 'pelayan': 1, 'hall': 1, 'notifikasi': 1, 'apelikas': 1, 'ram': 1, 'full': 1, 'dipaksa': 1, 'umun': 1, 'mendonlow': 1, 'kayak': 1, 'kalai': 1, 'kirimko': 1, 'onu': 1, 'iikk': 1, 'maksi': 1, 'heeeeee': 1, 'pemeriksaan': 1, 'ujung': 1, 'hah': 1, 'lindunge': 1, 'mengalami': 1, 'ngehang': 1, 'kedepannya': 1, 'kuiii': 1, 'mutakhirkan': 1, 'pendaftran': 1, 'mnggunakan': 1, 'klp': 1, 'abadi': 1, 'ngerubah': 1, 'settifikat': 1, 'karnakn': 1, 'emng': 1, 'uinstall': 1, 'apliksi': 1, 'cex': 1, 'komputer': 1, 'krja': 1, 'atasan': 1, 'sarannya': 1, 'dibeberapa': 1, 'denpasar': 1, 'sptnya': 1, 'jawabannya': 1, 'ketidaknyamanan': 1, 'menghabiskan': 1, 'brp': 1, 'kenap': 1, 'tiketnya': 1, 'outnya': 1, 'sayaa': 1, 'sabtu': 1, 'vaksi': 1, 'dukumen': 1, 'ataukah': 1, 'impun': 1, 'klau': 1, 'gemana': 1, 'solussinya': 1, 'terinput': 1, 'cpat': 1, 'sebalumnya': 1, 'kmi': 1, 'ucapkan': 1, 'kpada': 1, 'secara': 1, 'ditail': 1, 'disuru': 1, 'butuhnya': 1, 'zaman': 1, 'now': 1, 'ngatur': 1, 'kudu': 1, 'back': 1, 'perbulan': 1, 'nyimpen': 1, 'goverment': 1, 'paud': 1, 'mash': 1, 'setrifikat': 1, 'bangsattt': 1, 'apaann': 1, 'beda': 1, 'membawa': 1, 'printout': 1, 'kemanapun': 1, 'hendak': 1, 'bepergian': 1, 'tuh': 1, 'disulitin': 1, 'prihal': 1, 'beginian': 1, 'gada': 1, 'pekerja': 1, 'pulau': 1, 'terkoneksi': 1, 'assalamu': 1, 'alaikum': 1, 'kalok': 1, 'mmbantu': 1, 'puji': 1, 'tuhan': 1, 'bila': 1, 'pengalaman': 1, 'pesan': 1, 'pertanyaannya': 1, 'serripikat': 1, 'penanganan': 1, 'endemi': 1, 'robballalamiin': 1, 'bego': 1, 'tahunya': 1, 'diganti': 1, 'mosok': 1, 'akhlak': 1, 'jempol': 1, 'kriting': 1, 'perduki': 1, 'ngeklem': 1, 'prosedur': 1, 'mengakses': 1, 'perlindungan': 1, 'balas': 1, 'krj': 1, 'apa²': 1, 'berhubungan': 1, 'lola': 1, 'vuat': 1, 'akal': 1, 'akalan': 1, 'menunya': 1, 'gmna': 1, 'gangguan': 1, 'service': 1, 'skali': 1, 'lobi': 1, 'registrasi': 1, 'telpon': 1, 'marah': 1, 'dosa': 1, 'setengah': 1, 'coyyyy': 1, 'tertulis': 1, 'bantuanya': 1, 'sepppp': 1, 'certifikat': 1, 'selanjutnya': 1, 'diarahkan': 1, 'subracer': 1, 'paansi': 1, 'hidih': 1, 'gogle': 1, 'noleh': 1, 'tenaga': 1, 'pikiran': 1, 'mksih': 1, 'padhal': 1, 'ditanggal': 1, 'kdg': 1, 'bnr': 1, 'sengaja': 1, 'yaaa': 1, 'susaah': 1, 'kebaikan': 1, 'manusk': 1, 'situasi': 1, 'apapun': 1, 'kacung': 1, 'who': 1, 'adehhhh': 1, 'daripada': 1, 'arsenal': 1, 'kalah': 1, 'final': 1, 'liga': 1, 'champion': 1, 'super': 1, 'masyaallah': 1, 'haha': 1, 'kocak': 1, 'beneran': 1, 'barkot': 1, 'diatas': 1, 'mampuslah': 1, 'gabti': 1, 'wis': 1, 'dehhh': 1, 'niceee': 1, 'bln': 1, 'hrsnya': 1, 'isinya': 1, 'diketik': 1, 'vksn': 1, 'muncull': 1, 'upgread': 1, 'gbsaa': 1, 'trtunda': 1, 'cba': 1, 'ngelik': 1, 'mumet': 1, 'jadul': 1, 'competible': 1, 'programnya': 1, 'nyaman': 1, 'ujungnya': 1, 'renang': 1, 'disungai': 1, 'banjir': 1, 'coronovac': 1, 'pencegahan': 1, 'quality': 1, 'with': 1, 'fast': 1, 'response': 1, 'really': 1, 'mkasih': 1, 'vaccine': 1, 'match': 1, 'ngaco': 1, 'sendri': 1, 'sedang': 1, 'perhatikan': 1, 'trima': 1, 'aplikasimu': 1, 'bosss': 1, 'dilengkapi': 1, 'inovasi': 1, 'membikin': 1, 'pemakai': 1, 'makek': 1, 'krtu': 1, 'fbi': 1, 'ftn': 1, 'sarana': 1, 'okee': 1, 'ntaps': 1, 'berkesan': 1, 'gara': 1, 'faqnya': 1, 'barengan': 1, 'one': 1, 'menggunakannya': 1, 'suami': 1, 'buatin': 1, 'buatx': 1, 'akrab': 1, 'peduililindunggi': 1, 'menguntungkan': 1, 'loadingya': 1, 'bnget': 1, 'munculll': 1, 'thankss': 1, 'bangkek': 1, 'kkkkkkkkkkkkkkk': 1, 'panas': 1, 'unisntal': 1, 'woy': 1, 'mantapppppppp': 1, 'luarbiasa': 1, 'kluarnya': 1, 'serentak': 1, 'bagur': 1, 'bahwasanya': 1, 'dicetak': 1, 'sungguh': 1, 'tmbah': 1, 'trbuka': 1, 'minus': 1, 'menurut': 1, 'khususnya': 1, 'inj': 1, 'msuk': 1, 'indonesiaku': 1, 'aplukasi': 1, 'cepa': 1, 'turun': 1, 'atasi': 1, 'bijak': 1, 'sahurr': 1, 'tertuang': 1, 'dipercaya': 1, 'job': 1, 'loadingnya': 1, 'suntik': 1, 'braktifitas': 1, 'pederita': 1, 'terpantau': 1, 'puskesmasnya': 1, 'aktive': 1, 'woi': 1, 'woii': 1, 'singkron': 1, 'kaga': 1, 'dikirim': 1, 'hitungan': 1, 'september': 1, 'sertifnya': 1, 'haduh': 1, 'gembar': 1, 'gembor': 1, 'satunya': 1, 'pengunaan': 1, 'baginumat': 1, 'jooosss': 1, 'okeh': 1, 'sertivikatnya': 1, 'relevan': 1, 'berguana': 1, 'mengetahui': 1, 'test': 1, 'murah': 1, 'pecah': 1, 'sippp': 1, 'baarakallah': 1, 'porla': 1, 'paunna': 1, 'ketigs': 1, 'pintar': 1, 'gan': 1, 'terpercaya': 1, 'bca': 1, 'ber': 1, 'butut': 1, 'bangat': 1, 'slalu': 1, 'perbarui': 1, 'eeeeee': 1, 'bolak': 1, 'ribetttttt': 1, 'ribeeertttttt': 1, 'mantabz': 1, 'dounload': 1, 'nantinya': 1, 'pelindungi': 1, 'tulisannya': 1, 'membantuu': 1, 'berbelit': 1, 'imel': 1, 'ngerti': 1, 'peraturannya': 1, 'sertikat': 1, 'pergi': 1, 'menunjukan': 1, 'mengikuti': 1, 'buruuk': 1, 'fortinaiti': 1, 'babaji': 1, 'babajii': 1, 'lancarrr': 1, 'disore': 1, 'apikasinya': 1, 'notifikasinya': 1, 'normal': 1, 'soal': 1, 'mengangu': 1, 'belajar': 1, 'daring': 1, 'restart': 1, 'thnks': 1, 'tergangu': 1, 'korupsi': 1, 'kecil': 1, 'kerak': 1, 'neraka': 1, 'musim': 1, 'pancen': 1, 'lumayann': 1, 'tertunda': 1, 'ditegaskan': 1, 'semisal': 1, 'kesatu': 1, 'tampilannya': 1, 'komplain': 1, 'kelanjutannya': 1, 'dukunganya': 1, 'ribedddd': 1, 'tertera': 1, 'maybe': 1, 'kepala': 1, 'your': 1, 'goid': 1, 'lht': 1, 'dbuka': 1, 'signal': 1, 'hlg': 1, 'sndr': 1, 'performansiy': 1, 'vakainy': 1, 'soaly': 1, 'sejak': 1, 'betul': 1, 'terimakasiih': 1, 'mudahan': 1, 'selsai': 1, 'byk': 1, 'kacau': 1, 'sakit': 1, 'dwnlod': 1, 'tks': 1, 'bermutu': 1, 'bermasker': 1, 'kesehariannya': 1, 'lellleeeeeet': 1, 'leletnyaa': 1, 'situs': 1, 'lancar²': 1, 'berulang': 1, 'menghapus': 1, 'maksimal': 1, 'gasss': 1, 'keun': 1, 'maszeeh': 1, 'kalender': 1, 'tercantum': 1, 'diket': 1, 'efektif': 1, 'kondisi': 1, 'lamban': 1, 'kenpa': 1, 'loging': 1, 'kembalikan': 1, 'tksh': 1, 'infonya': 1, 'sangant': 1, 'sayah': 1, 'deeh': 1, 'seritifikat': 1, 'munculnya': 1, 'kerenn': 1, 'gatur': 1, 'diperhatikan': 1, 'sejuta': 1, 'umat': 1, 'busehh': 1, 'sekalinya': 1, 'kebuka': 1, 'setelh': 1, 'upgred': 1, 'sertifikatny': 1, 'ksih': 1, 'boros': 1, 'batre': 1, 'berjalan': 1, 'dilatar': 1, 'mengubah': 1, 'mentok': 1, 'hallo': 1, 'vertifikasi': 1, 'pernh': 1, 'irt': 1, 'dirmh': 1, 'jelekkkkkk': 1, 'capcta': 1, 'slide': 1, 'dipeliduli': 1, 'nomernya': 1, 'gabung': 1, 'perdana': 1, 'pisah': 1, 'gabis': 1, 'alhasil': 1, 'infut': 1, 'temukan': 1, 'pelengkapan': 1, 'dibilangnya': 1, 'didownload': 1, 'jadilah': 1, 'mata': 1, 'masarakat': 1, 'pohon': 1, 'lupah': 1, 'akarnya': 1, 'kokoh': 1, 'ngk': 1, 'awokawok': 1, 'yak': 1, 'kunjung': 1, 'thankyou': 1, 'ķami': 1, 'kelamaan': 1, 'evaluasi': 1, 'heh': 1, 'ngeluh': 1, 'tingkatin': 1, 'terawan': 1, 'agus': 1, 'putranto': 1, 'kesannya': 1, 'easy': 1, 'form': 1, 'lsg': 1, 'cuki': 1, 'anjing': 1, 'lemottt': 1, 'olah': 1, 'raga': 1, 'game': 1, 'mendidik': 1, 'nusa': 1, 'bangsa': 1, 'bangga': 1, 'trouble': 1, 'pengoperasiannya': 1, 'janjiin': 1, 'nol': 1, 'dna': 1, 'gaji': 1, 'buta': 1, 'playstore': 1, 'ttep': 1, 'trimah': 1, 'terkendala': 1, 'klaimnya': 1, 'dipencet': 1, 'terdepan': 1, 'salam': 1, 'lndonesia': 1, 'nkri': 1, 'akbar': 1, 'waspada': 1, 'terosssss': 1, 'veripikasi': 1, 'izin': 1, 'memberi': 1, 'setting': 1, 'ditulis': 1, 'sistemnya': 1, 'memakan': 1, 'dwnld': 1, 'benarbenar': 1, 'luammmaaa': 1, 'bangettt': 1, 'bayangin': 1, 'dri': 1, 'ngerepotin': 1, 'ngeribetin': 1, 'songeh': 1, 'abplot': 1, 'kelar': 1, 'paketan': 1, 'mlah': 1, 'gemns': 1, 'mesin': 1, 'ayo': 1, 'sipp': 1, 'capek_nyyaaaaaa': 1, 'penulisan': 1, 'smple': 1, 'gtu': 1, 'memberatkan': 1, 'beraktifitas': 1, 'meski': 1, 'mempunyai': 1, 'gawai': 1, 'mentaati': 1, 'terhindar': 1, 'dikirimin': 1, 'mantafffff': 1, 'internasionalnya': 1, 'blok': 1, 'kepastian': 1, 'fungsi': 1, 'ajalah': 1, 'nunggunya': 1, 'artinya': 1, 'mendorong': 1, 'konsumtif': 1, 'penggunaanya': 1, 'menyedot': 1, 'kouta': 1, 'quota': 1, 'dwnloadnya': 1, 'ketinggalan': 1, 'donlotnya': 1, 'jawaban': 1, 'dibenahi': 1, 'memuas': 1, 'melindungi': 1, 'surtipikat': 1, 'prioritas': 1, 'publikk': 1, 'kamiii': 1, 'kaummmm': 1, 'wifi': 1, 'rumah': 1, 'gabisaaa': 1, 'agustus': 1, 'kehitung': 1, 'ksana': 1, 'sini': 1, 'donload': 1, 'aplkasi': 1, 'gunakn': 1, 'aplksi': 1, 'riwyt': 1, 'mpe': 1, 'programkn': 1, 'jlnkn': 1, 'nyata': 1, 'terhapus': 1, 'meminta': 1, 'ujung²nya': 1, 'memutar': 1, 'hingga': 1, 'ufhh': 1, 'merestar': 1, 'memperlancar': 1, 'yuk': 1, 'gtw': 1, 'kren': 1, 'kehilang': 1, 'hehe': 1, 'kidding': 1, 'membuktikan': 1, 'seseorang': 1, 'ubah': 1, 'cocokik': 1, 'tekan': 1, 'kasi': 1, 'boss': 1, 'mengklaim': 1, 'says': 1, 'difaksin': 1, 'domestik': 1, 'okelah': 1, 'sempurnakan': 1, 'over': 1, 'all': 1, 'kendalanya': 1, 'rechapta': 1, 'delay': 1, 'stabil': 1, 'halaman': 1, 'reset': 1, 'pilih': 1, 'batas': 1, 'attemp': 1, 'benerr': 1, 'vdy': 1, 'fink': 1, 'jung': 1, 'statusnya': 1, 'solusiny': 1, 'revisi': 1, 'baguus': 1, 'loginnya': 1, 'sdah': 1, 'vaksik': 1, 'dinyatan': 1, 'ndak': 1, 'nak': 1, 'dinwlot': 1, 'blank': 1, 'aplk': 1, 'kosong': 1, 'bntuannya': 1, 'gga': 1, 'memverifkasi': 1, 'vacc': 1, 'bodohin': 1, 'launching': 1, 'bentar': 1, 'hape': 1, 'sdg': 1, 'sorry': 1, 'resmi': 1, 'kominfo': 1, 'hemmm': 1, 'berhari': 1, 'okw': 1, 'pengembangnya': 1, 'persyaratan': 1, 'basenya': 1, 'macem': 1, 'diproses': 1, 'sangatt': 1, 'kertas': 1, 'telah': 1, 'kecuali': 1, 'sendirian': 1, 'ook': 1, 'maaantaaap': 1, 'ampas': 1, 'gag': 1, 'kelola': 1, 'administrasi': 1, 'otomatis': 1, 'gimansi': 1, 'danta': 1, 'semkin': 1, 'aplgi': 1, 'trhlngny': 1, 'jringan': 1, 'berulng': 1, 'pulak': 1, 'kmudian': 1, 'tenan': 1, 'beban': 1, 'dijadikan': 1, 'diluncurkan': 1, 'kog': 1, 'penambahan': 1, 'bot': 1, 'logout': 1, 'frustasi': 1, 'hubungi': 1, 'fakses': 1, 'sii': 1, 'merdeka': 1, 'sepihak': 1, 'anya': 1, 'mobilitas': 1, 'selebihnya': 1, 'timbal': 1, 'ssp': 1, 'pool': 1, '⁹⁹⁹': 1, 'pkk': 1, 'penerbitan': 1, 'pantesan': 1, 'cuiihhh': 1, 'main': 1, 'ringan': 1, 'tipe': 1, 'pantes': 1, 'teratasi': 1, 'duit': 1, 'biasakan': 1, 'tuk': 1, 'baguuuus': 1, 'dagang': 1, 'secepatnya': 1, 'lalai': 1, 'tindak': 1, 'instan': 1, 'rasio': 1, 'navigation': 1, 'bar': 1, 'boy': 1, 'bedan': 1, 'saling': 1, 'time': 1, 'bersih': 1, 'keras': 1, 'mem': 1, 'berikan': 1, 'alasan': 1, 'kpda': 1, 'menonton': 1, 'bioskop': 1, 'terdekat': 1, 'sebab': 1, 'mundurnya': 1, 'crnya': 1, 'mnt': 1, 'bansos': 1, 'kis': 1, 'yallah': 1, 'gor': 1, 'bekasi': 1, 'skrmg': 1, 'maunya': 1, 'apaa': 1, 'jaman': 1, 'kapan': 1, 'sertakan': 1, 'jompo': 1, 'berjam': 1, 'hempas': 1, 'penuhi': 1, 'gojek': 1, 'shoppe': 1, 'jalan²': 1, 'klw': 1, 'tng': 1, 'dunia': 1, 'akherat': 1, 'amiiiiin': 1, 'setifikat': 1, 'baus': 1, 'privacy': 1, 'public': 1, 'melangggar': 1, 'privasi': 1, 'ribettttt': 1, 'mbah': 1, 'walaupun': 1, 'selama': 1, 'aplaagi': 1, 'klu': 1, 'keperluan': 1, 'mendesak': 1, 'sertfikat': 1, 'smart': 1, 'serut': 1, 'see': 1, 'pindah': 1, 'malaysia': 1, 'mysejahtera': 1, 'dibilangin': 1, 'ngapain': 1, 'help': 1, 'ever': 1, 'always': 1, 'stay': 1, 'healthy': 1, 'proses': 1, 'kamu': 1, 'dimata': 1, 'dirimu': 1, 'birokrasi': 1, 'penyempurnaan': 1, 'ditlp': 1, 'dsuruh': 1, 'max': 1, 'yaaaa': 1, 'tanyak': 1, 'kerena': 1, 'paskes': 1, 'lelah': 1, 'sayang': 1, 'keduanya': 1, 'loh': 1, 'apus': 1, 'berulangkali': 1, 'keamanan': 1, 'direspon': 1, 'tadinya': 1, 'via': 1, '𝔸𝕡𝕝𝕚𝕜𝕒𝕤𝕚': 1, '𝕥𝕒𝕚': 1, '𝕃𝕖𝕞𝕠𝕥': 1, '𝕜𝕝𝕠': 1, '𝕓𝕦𝕥𝕦𝕙': 1, '𝕓𝕟𝕘𝕖𝕥': 1, '𝕘𝕦𝕖': 1, '𝕦𝕟𝕚𝕟𝕤𝕥𝕒𝕝𝕝': 1, '𝕒𝕡𝕡': 1, '𝔸𝕟𝕛𝕚𝕟𝕘': 1, 'diterima': 1, 'memuat': 1, 'bebantu': 1, 'bukanya': 1, 'ribetlah': 1, 'sana': 1, 'niice': 1, 'bentrok': 1, 'gotong': 1, 'royong': 1, 'ditindaklanjuti': 1, 'smp': 1, 'tapil': 1, 'penjelasan': 1, 'atmin': 1, 'org': 1, 'loadiingnya': 1, 'eka': 1, 'perdulilindungan': 1, 'dasar': 1, 'maksa': 1, 'seharusnya': 1, 'misal': 1, 'termonitor': 1, 'nganjurin': 1, 'ogah': 1, 'diregistrasi': 1, 'kereset': 1, 'telek': 1, 'kya': 1, 'keong': 1, 'masyrakt': 1, 'pengoprasiannya': 1, 'dngn': 1, 'smpai': 1, 'msih': 1, 'mhon': 1, 'prhtikn': 1, 'sbgai': 1, 'trims': 1, 'heran': 1, 'setalah': 1, 'telf': 1, 'call': 1, 'center': 1, 'koplak': 1, 'tolak': 1, 'msalah': 1, 'tcih': 1, 'keadaan': 1, 'percaya': 1, 'hand': 1, 'phone': 1, 'tiganya': 1, 'diapk': 1, 'pendataan': 1, 'fix': 1, 'lamaku': 1, 'aktipkan': 1, 'ribetnya': 1, 'bet': 1, 'ente': 1, 'robot': 1, 'sepabrik': 1, 'seangkatan': 1, 'alias': 1, 'nyelenggarain': 1, 'pihak': 1, 'kepolisian': 1, 'antigen': 1, 'kemudahan': 1, 'sulitt': 1, 'menyulitkan': 1, 'klem': 1, 'tumben': 1, 'gaada': 1, 'review': 1, 'alai': 1, 'jelekkkkkkkkkkkkkkkkkkkkkkkkkkkk': 1, 'bangeeeeeeeeeet': 1, 'awokawokawok': 1, 'busuk': 1, 'smnjak': 1, 'bocor': 1, 'telfon': 1, 'orang²': 1, 'kepaksa': 1, 'pirus': 1, 'lemott': 1, 'corona': 1, 'muka': 1, 'bumi': 1, 'menang': 1, 'undian': 1, 'motor': 1, 'magicom': 1, 'papa': 1, 'aminnn': 1, 'yarrobalallamin': 1, 'desa': 1, 'karang': 1, 'cikampek': 1, 'brati': 1, 'mampu': 1, 'mengembangkan': 1, 'software': 1, 'diperjalanan': 1, 'tetangga': 1, 'freak': 1, 'keselamatan': 1, 'makanya': 1, 'bmn': 1, 'dia': 1, 'berarti': 1, 'daya': 1, 'penggaprean': 1, 'chek': 1, 'apgredi': 1, 'ramah': 1, 'mansana': 1, 'comfere': 1, 'baguslah': 1, 'mmantap': 1, 'berhenti': 1, 'ngetik': 1, 'capca': 1, 'termasuk': 1, 'terimksih': 1, 'moga': 1, 'updet': 1, 'melulu': 1})\n"
          ]
        }
      ],
      "source": [
        "print (count_words)"
      ]
    },
    {
      "cell_type": "code",
      "execution_count": null,
      "metadata": {
        "id": "oxrXW0sjEjfb"
      },
      "outputs": [],
      "source": [
        "vocab_to_int = {w:i+1 for i, (w,c) in enumerate(sorted_words)}"
      ]
    },
    {
      "cell_type": "code",
      "execution_count": null,
      "metadata": {
        "id": "Q1UnC4A6Elsv",
        "colab": {
          "base_uri": "https://localhost:8080/"
        },
        "outputId": "1643979e-1e15-4093-c1bf-824dfde6f3d7"
      },
      "outputs": [
        {
          "output_type": "stream",
          "name": "stdout",
          "text": [
            "{'vaksin': 1, 'aplikasi': 2, 'saya': 3, 'sertifikat': 4, 'sangat': 5, 'bagus': 6, 'bisa': 7, 'sudah': 8, 'ini': 9, 'dan': 10, 'tidak': 11, 'membantu': 12, 'nya': 13, 'ada': 14, 'muncul': 15, 'tapi': 16, 'untuk': 17, 'mantap': 18, 'gak': 19, 'mau': 20, 'susah': 21, 'belum': 22, 'udah': 23, 'baik': 24, 'yang': 25, 'good': 26, 'aja': 27, 'padahal': 28, 'harus': 29, 'update': 30, 'ribet': 31, 'booster': 32, 'dari': 33, 'kok': 34, 'data': 35, 'klaim': 36, 'tanggal': 37, 'kenapa': 38, 'tolong': 39, 'buat': 40, 'banget': 41, 'peduli': 42, 'lagi': 43, 'lahir': 44, 'malah': 45, 'masuk': 46, 'sekali': 47, 'apk': 48, 'aplikasinya': 49, 'keluar': 50, 'lemot': 51, 'semua': 52, 'terus': 53, 'lindungi': 54, 'bikin': 55, 'jadi': 56, 'juga': 57, 'masih': 58, 'lama': 59, 'saat': 60, 'bermanfaat': 61, 'eror': 62, 'tdk': 63, 'sama': 64, 'mohon': 65, 'tgl': 66, 'download': 67, 'sdh': 68, 'lebih': 69, 'kasih': 70, 'gimana': 71, 'sampai': 72, 'berguna': 73, 'sekarang': 74, 'selalu': 75, 'orang': 76, 'dengan': 77, 'mudah': 78, 'kali': 79, 'bulan': 80, 'tahun': 81, 'kalau': 82, 'blm': 83, 'hari': 84, 'sulit': 85, 'buka': 86, 'boster': 87, 'saja': 88, 'setelah': 89, 'itu': 90, 'versi': 91, 'punya': 92, 'karena': 93, 'nik': 94, 'jelas': 95, 'kita': 96, 'bintang': 97, 'isi': 98, 'oke': 99, 'apa': 100, 'pedulilindungi': 101, 'ketiga': 102, 'error': 103, 'makin': 104, 'gagal': 105, 'terimakasih': 106, 'dapat': 107, 'jelek': 108, 'banyak': 109, 'cek': 110, 'terima': 111, 'sering': 112, 'dulu': 113, 'lah': 114, 'masa': 115, 'sertifikatnya': 116, 'kalo': 117, 'semakin': 118, 'baru': 119, 'klo': 120, 'input': 121, 'pada': 122, 'cuma': 123, 'utk': 124, 'jangan': 125, 'scan': 126, 'satu': 127, 'perbaiki': 128, 'cepat': 129, 'minta': 130, 'dalam': 131, 'kartu': 132, 'tiga': 133, 'semoga': 134, 'udh': 135, 'langsung': 136, 'buruk': 137, 'covid': 138, 'pertama': 139, 'kedua': 140, 'keren': 141, 'salah': 142, 'bener': 143, 'sih': 144, 'suruh': 145, 'ganti': 146, 'lalu': 147, 'tetap': 148, 'puas': 149, 'pake': 150, 'kurang': 151, 'pemerintah': 152, 'android': 153, 'sya': 154, 'aman': 155, 'masukin': 156, 'pakai': 157, 'mempersulit': 158, 'hilang': 159, 'kesehatan': 160, 'dah': 161, 'diperbaiki': 162, 'nama': 163, 'app': 164, 'jos': 165, 'daftar': 166, 'mulu': 167, 'coba': 168, 'akun': 169, 'sesuai': 170, 'cukup': 171, 'setiap': 172, 'email': 173, 'login': 174, 'indonesia': 175, 'nih': 176, 'benar': 177, 'kode': 178, 'dgn': 179, 'check': 180, 'sampah': 181, 'memudahkan': 182, 'perlu': 183, 'ulang': 184, 'perjalanan': 185, 'suka': 186, 'vaksinasi': 187, 'karna': 188, 'masyarakat': 189, 'kan': 190, 'dong': 191, 'rakyat': 192, 'bagaimana': 193, 'sertivikat': 194, 'terbaru': 195, 'alhamdulillah': 196, 'mall': 197, 'respon': 198, 'tambah': 199, 'info': 200, 'melihat': 201, 'vaksinnya': 202, 'terlalu': 203, 'luar': 204, 'nggak': 205, 'lengkap': 206, 'tempat': 207, 'biar': 208, 'upgrade': 209, 'dua': 210, 'waktu': 211, 'kami': 212, 'gabisa': 213, 'segera': 214, 'captcha': 215, 'deh': 216, 'katanya': 217, 'jam': 218, 'instal': 219, 'maaf': 220, 'pas': 221, 'verifikasi': 222, 'atau': 223, 'menyusahkan': 224, 'akan': 225, 'bgt': 226, 'lumayan': 227, 'seperti': 228, 'datanya': 229, 'lancar': 230, 'payah': 231, 'diupdate': 232, 'hanya': 233, 'kecewa': 234, 'lambat': 235, 'maret': 236, 'admin': 237, 'cara': 238, 'ngga': 239, 'tiket': 240, 'trus': 241, 'server': 242, 'tpi': 243, 'out': 244, 'pernah': 245, 'trs': 246, 'negara': 247, 'program': 248, 'mundur': 249, 'ketik': 250, 'lelet': 251, 'biasa': 252, 'digunakan': 253, 'apalagi': 254, 'awal': 255, 'tetapi': 256, 'best': 257, 'knp': 258, 'aku': 259, 'sedangkan': 260, 'kesini': 261, 'top': 262, 'tau': 263, 'dosis': 264, 'sampe': 265, 'ilang': 266, 'masalah': 267, 'mempermudah': 268, 'praktis': 269, 'install': 270, 'gunakan': 271, 'dlm': 272, 'sebelumnya': 273, 'geser': 274, 'sehat': 275, 'mantul': 276, 'hasil': 277, 'kluar': 278, 'nomor': 279, 'disuruh': 280, 'soalnya': 281, 'mantab': 282, 'guna': 283, 'memuaskan': 284, 'klik': 285, 'segala': 286, 'profil': 287, 'liat': 288, 'wajib': 289, 'mendownload': 290, 'unduh': 291, 'tetep': 292, 'mana': 293, 'paksin': 294, 'caranya': 295, 'diaplikasi': 296, 'kemana': 297, 'ketika': 298, 'nanti': 299, 'pun': 300, 'nice': 301, 'faksin': 302, 'hidup': 303, 'mending': 304, 'giliran': 305, 'dibuka': 306, 'krn': 307, 'pandemi': 308, 'pilihan': 309, 'butuh': 310, 'menjadi': 311, 'buang': 312, 'terpaksa': 313, 'nomer': 314, 'pengguna': 315, 'namun': 316, 'keluarga': 317, 'bukan': 318, 'gmn': 319, 'amat': 320, 'thn': 321, 'informasi': 322, 'uda': 323, 'aneh': 324, 'sertipikat': 325, 'melengkapi': 326, 'akses': 327, 'support': 328, 'lewat': 329, 'jika': 330, 'dll': 331, 'kelahiran': 332, 'gua': 333, 'ngecek': 334, 'emang': 335, 'pelayanan': 336, 'pak': 337, 'agar': 338, 'bgs': 339, 'kirim': 340, 'berfungsi': 341, 'yaa': 342, 'sertifikasi': 343, 'lain': 344, 'habis': 345, 'tlng': 346, 'adanya': 347, 'surat': 348, 'atas': 349, 'indo': 350, 'mendukung': 351, 'loading': 352, 'besok': 353, 'bingung': 354, 'claim': 355, 'jenis': 356, 'status': 357, 'blum': 358, 'enggak': 359, 'paling': 360, 'emosi': 361, 'april': 362, 'bukti': 363, 'sendiri': 364, 'bsa': 365, 'gini': 366, 'tak': 367, 'ngeselin': 368, 'hrs': 369, 'the': 370, 'simpel': 371, 'pdhl': 372, 'belom': 373, 'otp': 374, 'menu': 375, 'kemenkes': 376, 'smoga': 377, 'membatu': 378, 'penggunaan': 379, 'ikut': 380, 'akhirnya': 381, 'membingungkan': 382, 'bug': 383, 'hampir': 384, 'sinyal': 385, 'pasti': 386, 'pencet': 387, 'tiba': 388, 'sebagai': 389, 'berapa': 390, 'kemarin': 391, 'min': 392, 'manual': 393, 'tanpa': 394, 'ngisi': 395, 'mencari': 396, 'balik': 397, 'kena': 398, 'bantu': 399, 'riwayat': 400, 'cari': 401, 'membuat': 402, 'date': 403, 'pelayanannya': 404, 'perbaikan': 405, 'gampang': 406, 'ktp': 407, 'apps': 408, 'knapa': 409, 'jawab': 410, 'mendapatkan': 411, 'bukannya': 412, 'terbaik': 413, 'trimakasih': 414, 'sumpah': 415, 'spt': 416, 'virus': 417, 'berbeda': 418, 'agak': 419, 'pusing': 420, 'menit': 421, 'penting': 422, 'bantuan': 423, 'nunggu': 424, 'bagi': 425, 'notif': 426, 'not': 427, 'mudik': 428, 'petugas': 429, 'mati': 430, 'sebelum': 431, 'apl': 432, 'syarat': 433, 'terjadi': 434, 'dipersulit': 435, 'kesulitan': 436, 'kaya': 437, 'diri': 438, 'persulit': 439, 'melalui': 440, 'makan': 441, 'bobrok': 442, 'kadang': 443, 'smua': 444, 'lbh': 445, 'lupa': 446, 'bosster': 447, 'februari': 448, 'dpt': 449, 'rumit': 450, 'permudah': 451, 'seminggu': 452, 'log': 453, 'anjeng': 454, 'kek': 455, 'lihat': 456, 'diklaim': 457, 'gambar': 458, 'dibutuhkan': 459, 'ttp': 460, 'percuma': 461, 'nyusahin': 462, 'perbaharui': 463, 'masak': 464, 'berbulan': 465, 'mantaap': 466, 'ttl': 467, 'harusnya': 468, 'telepon': 469, 'mantappp': 470, 'melakukan': 471, 'gax': 472, 'alhamdulilah': 473, 'tinggal': 474, 'dicoba': 475, 'beberapa': 476, 'code': 477, 'repot': 478, 'sukses': 479, 'dibikin': 480, 'mencoba': 481, 'baguss': 482, 'foto': 483, 'dipake': 484, 'donk': 485, 'like': 486, 'tulis': 487, 'enak': 488, 'tua': 489, 'ruang': 490, 'mah': 491, 'publik': 492, 'akurat': 493, 'membuka': 494, 'ampun': 495, 'yah': 496, 'kamera': 497, 'belakang': 498, 'rusak': 499, 'informasinya': 500, 'bawa': 501, 'pengisian': 502, 'siapa': 503, 'kah': 504, 'kalian': 505, 'jga': 506, 'tiap': 507, 'aktivitas': 508, 'jaya': 509, 'nambah': 510, 'gitu': 511, 'menyebalkan': 512, 'parah': 513, 'capek': 514, 'semula': 515, 'layanan': 516, 'tahu': 517, 'milih': 518, 'pembaruan': 519, 'beli': 520, 'donlot': 521, 'gajelas': 522, 'maka': 523, 'pula': 524, 'ehac': 525, 'sms': 526, 'kak': 527, 'semuanya': 528, 'nongol': 529, 'found': 530, 'oleh': 531, 'anak': 532, 'bgus': 533, 'memang': 534, 'memori': 535, 'maju': 536, 'kagak': 537, 'diupgrade': 538, 'angel': 539, 'memperbaiki': 540, 'divaksin': 541, 'awalnya': 542, 'wabah': 543, 'tunggu': 544, 'berhasil': 545, 'berkali': 546, 'tersebut': 547, 'taik': 548, 'minggu': 549, 'bahasa': 550, 'terutama': 551, 'memiliki': 552, 'jadinya': 553, 'thanks': 554, 'mengapa': 555, 'internal': 556, 'engga': 557, 'menggunakan': 558, 'hapus': 559, 'ingin': 560, 'for': 561, 'sekian': 562, 'terbit': 563, 'masukkan': 564, 'diinstal': 565, 'lokasi': 566, 'vaksinya': 567, 'anggota': 568, 'urus': 569, 'selesai': 570, 'blom': 571, 'aturan': 572, 'pribadi': 573, 'memilih': 574, 'bla': 575, 'per': 576, 'istri': 577, 'lolll': 578, 'niat': 579, 'pokok': 580, 'chat': 581, 'bangke': 582, 'awikwok': 583, 'nyampe': 584, 'pakek': 585, 'developer': 586, 'dilihat': 587, 'fasilitas': 588, 'gmana': 589, 'nulis': 590, 'ratusan': 591, 'nyari': 592, 'saran': 593, 'capcha': 594, 'serfitikat': 595, 'okey': 596, 'kmrn': 597, 'disimpan': 598, 'jaringan': 599, 'nge': 600, 'warga': 601, 'masuknya': 602, 'usah': 603, 'umur': 604, 'tepat': 605, 'mengecek': 606, 'informatif': 607, 'tmn': 608, 'maksud': 609, 'jadikan': 610, 'ngak': 611, 'menerus': 612, 'kepentingan': 613, 'alesan': 614, 'drop': 615, 'puskesmas': 616, 'kembali': 617, 'merasakan': 618, 'wkwk': 619, 'web': 620, 'faskes': 621, 'ortu': 622, 'angka': 623, 'pokoknya': 624, 'urusan': 625, 'kerja': 626, 'fitur': 627, 'masukan': 628, 'lahirnya': 629, 'cuman': 630, 'mintain': 631, 'koq': 632, 'bicara': 633, 'plis': 634, 'jujur': 635, 'jesus': 636, 'mencet': 637, 'sampek': 638, 'hadeh': 639, 'sehingga': 640, 'dikasih': 641, 'terdeteksi': 642, 'mntap': 643, 'wah': 644, 'angelll': 645, 'napa': 646, 'tai': 647, 'supaya': 648, 'terdaftar': 649, 'ikuti': 650, 'oky': 651, 'lhir': 652, 'sja': 653, 'loding': 654, 'apakah': 655, 'bagian': 656, 'ditingkatkan': 657, 'bermamfaat': 658, 'gedung': 659, 'mngkin': 660, 'dipakai': 661, 'vksin': 662, 'skrg': 663, 'tingkatkan': 664, 'seorang': 665, 'harinya': 666, 'beri': 667, 'aamiin': 668, 'iya': 669, 'diunduh': 670, 'mesti': 671, 'bbrpa': 672, 'kinerjanya': 673, 'kebanyakan': 674, 'senang': 675, 'trdaftar': 676, 'besar': 677, 'solusinya': 678, 'gila': 679, 'berubah': 680, 'hijau': 681, 'sdngkan': 682, 'pikir': 683, 'sistem': 684, 'goood': 685, 'bro': 686, 'musti': 687, 'oppo': 688, 'sanggat': 689, 'buktinya': 690, 'cepet': 691, 'dapet': 692, 'nampil': 693, 'pusat': 694, 'wes': 695, 'berangkat': 696, 'sekolah': 697, 'mengisi': 698, 'simpan': 699, 'anda': 700, 'mengecewakan': 701, 'perbaikin': 702, 'aplikasiny': 703, 'kli': 704, 'bos': 705, 'josss': 706, 'apaan': 707, 'okk': 708, 'naik': 709, 'kereta': 710, 'cocok': 711, 'keluhan': 712, 'bagusan': 713, 'internet': 714, 'kendala': 715, 'diakses': 716, 'bekerja': 717, 'buatan': 718, 'ruwet': 719, 'tanggapan': 720, 'mikir': 721, 'gede': 722, 'umum': 723, 'mantapp': 724, 'pelindung': 725, 'harap': 726, 'tutup': 727, 'vasin': 728, 'fiturnya': 729, 'rasa': 730, 'mslh': 731, 'pke': 732, 'skrng': 733, 'baca': 734, 'para': 735, 'komentar': 736, 'hal': 737, 'uang': 738, 'tombol': 739, 'perhatianya': 740, 'esok': 741, 'ditambah': 742, 'adik': 743, 'doang': 744, 'kesel': 745, 'lindung': 746, 'sngt': 747, 'lansia': 748, 'dibantu': 749, 'teman': 750, 'msh': 751, 'kolom': 752, 'tanya': 753, 'gud': 754, 'seluruh': 755, 'provinsi': 756, 'tolol': 757, 'model': 758, 'menjaga': 759, 'hac': 760, 'internasional': 761, 'sngat': 762, 'hotel': 763, 'takut': 764, 'puasa': 765, 'ginian': 766, 'website': 767, 'negeri': 768, 'tanggalnya': 769, 'kebelakang': 770, 'erorr': 771, 'diperlukan': 772, 'jauh': 773, 'cetak': 774, 'dwonload': 775, 'offline': 776, 'actual': 777, 'keluar²': 778, 'disuntik': 779, 'bnyk': 780, 'inggris': 781, 'aplikasih': 782, 'untk': 783, 'memasuki': 784, 'kuota': 785, 'ikutin': 786, 'tdak': 787, 'jdi': 788, 'mna': 789, 'bulanan': 790, 'sebenarnya': 791, 'baterenya': 792, 'plus': 793, 'meskipun': 794, 'goodjob': 795, 'cpt': 796, 'pdahal': 797, 'kebawah': 798, 'tanggap': 799, 'hri': 800, 'manfaat': 801, 'menyenangkan': 802, 'tentang': 803, 'knpa': 804, 'serta': 805, 'memberikan': 806, 'sistim': 807, 'begitu': 808, 'tersedia': 809, 'edit': 810, 'terimaksih': 811, 'kemaren': 812, 'satgas': 813, 'diperbaharui': 814, 'dipercepat': 815, 'just': 816, 'gbs': 817, 'mencetak': 818, 'profesional': 819, 'petugasnya': 820, 'samsung': 821, 'boosternya': 822, 'dihapus': 823, 'bahwa': 824, 'maklum': 825, 'mama': 826, 'babi': 827, 'simple': 828, 'melaksanakan': 829, 'fungsional': 830, 'sono': 831, 'sempurna': 832, 'kawan': 833, 'terbantu': 834, 'mari': 835, 'bersama': 836, 'allah': 837, 'mksh': 838, 'pengurusan': 839, 'dirumah': 840, 'laporan': 841, 'kasian': 842, 'kuning': 843, 'god': 844, 'sory': 845, 'tulisan': 846, 'justru': 847, 'makasih': 848, 'kesalahan': 849, 'mulai': 850, 'asli': 851, 'nmr': 852, 'dlu': 853, 'kmrin': 854, 'keterangannya': 855, 'lgi': 856, 'korona': 857, 'manusia': 858, 'siap': 859, 'kentang': 860, 'mengulang': 861, 'mengunduh': 862, 'valid': 863, 'tanda': 864, 'lanjut': 865, 'lhr': 866, 'scroll': 867, 'lbih': 868, 'gunanya': 869, 'mengganggu': 870, 'dimasukkan': 871, 'wakanda': 872, 'ternyata': 873, 'daftarkan': 874, 'petunjuknya': 875, 'otak': 876, 'jan': 877, 'kau': 878, 'membanty': 879, 'godd': 880, 'unumvv': 881, 'solusikah': 882, 'drpd': 883, 'diperbarui': 884, 'vaksinku': 885, 'padahl': 886, 'mohn': 887, 'bosyok': 888, 'alangkah': 889, 'lamanya': 890, 'ditahun': 891, 'tsb': 892, 'pemihan': 893, 'amiiinnn': 894, 'sementara': 895, 'gatau': 896, 'gapernah': 897, 'ikutan': 898, 'ngasih': 899, 'rating': 900, 'boĺà': 901, 'paksinasi': 902, 'area': 903, 'menunggu': 904, 'apaaan': 905, 'vacsin': 906, 'menyesuaikan': 907, 'aneeeeh': 908, 'inlu': 909, 'recaptcha': 910, 'assalamualaikum': 911, 'rrtooiok': 912, 'pelayananya': 913, 'haruskan': 914, 'faktanya': 915, 'muterw': 916, 'mantao': 917, 'petunjuk': 918, 'mydah': 919, 'merepotkan': 920, 'bayangkan': 921, 'selain': 922, 'sehatnya': 923, 'terimakaaih': 924, 'aplikasnya': 925, 'guys': 926, 'keseringan': 927, 'disemua': 928, 'sitem': 929, 'mndukung': 930, 'daerah': 931, 'antarmuka': 932, 'dipahami': 933, 'selamat': 934, 'mlm': 935, 'pagi': 936, 'bareng': 937, 'polsek': 938, 'ciledug': 939, 'sdgkan': 940, 'mantaf': 941, 'abal': 942, 'tercatat': 943, 'jgn': 944, 'standar': 945, 'sempurnah': 946, 'diikuti': 947, 'dibenerin': 948, 'close': 949, 'hpnya': 950, 'jiwa': 951, 'goof': 952, 'tes': 953, 'iklan': 954, 'bertubi': 955, 'tubi': 956, 'berbagai': 957, 'medis': 958, 'blokir': 959, 'sekrang': 960, 'entahpenginput': 961, 'dinkes': 962, 'surabaya': 963, 'beres': 964, 'troble': 965, 'sinkron': 966, 'lapangan': 967, 'terkena': 968, 'wkwkwk': 969, 'sinovac': 970, 'pfizer': 971, 'mungkin': 972, 'astrazeneca': 973, 'identitas': 974, 'nyusahkan': 975, 'chatboot': 976, 'hasilnya': 977, 'nihil': 978, 'print': 979, 'syaa': 980, 'mohoh': 981, 'simplekan': 982, 'jleg': 983, 'mucul': 984, 'masyarakt': 985, 'keterangan': 986, 'pengen': 987, 'dipermudah': 988, 'nelpon': 989, 'dvd': 990, 'etc': 991, 'dyf': 992, 'pencerahannya': 993, 'games': 994, 'seru': 995, 'muncul²': 996, 'contoh': 997, 'jaga': 998, 'tgal': 999, 'servernya': 1000, 'itupun': 1001, 'intinya': 1002, 'toh': 1003, 'seenaknya': 1004, 'ngalor': 1005, 'ngidul': 1006, 'nyesel': 1007, 'astaga': 1008, 'lemotttt': 1009, 'berintegritas': 1010, 'takuttuhan': 1011, 'sayajerlius': 1012, 'marbun': 1013, 'amingbu': 1014, 'kempor': 1015, 'bleset': 1016, 'sitik': 1017, 'nfc': 1018, 'jakarta': 1019, 'berpergian': 1020, 'betanya': 1021, 'penuh': 1022, 'terbatas': 1023, 'ribettt': 1024, 'benr': 1025, 'fake': 1026, 'nuyasahin': 1027, 'rakyaaaat': 1028, 'sarankan': 1029, 'memilikinya': 1030, 'lingkungan': 1031, 'josssss': 1032, 'terhubung': 1033, 'bentuk': 1034, 'kegiatan': 1035, 'jasmani': 1036, 'keseluruhannya': 1037, 'penetapan': 1038, 'atur': 1039, 'pisahkan': 1040, 'efisian': 1041, 'yayaya': 1042, 'perlukan': 1043, 'gmail': 1044, 'pencarian': 1045, 'abgret': 1046, 'daptar': 1047, 'kantor': 1048, 'ush': 1049, 'diminta': 1050, 'mengkalim': 1051, 'mengubungi': 1052, 'menanyakan': 1053, 'merah': 1054, 'siiii': 1055, 'pateeeen': 1056, 'bad': 1057, 'seerifikat': 1058, 'susahy': 1059, 'proyek': 1060, 'donlwod': 1061, 'sgat': 1062, 'nyasedikit': 1063, 'kekurangannya': 1064, 'ngezooom': 1065, 'terpotong': 1066, 'btng': 1067, 'skaligus': 1068, 'syangnya': 1069, 'barkotnya': 1070, 'nyuruh': 1071, 'stelah': 1072, 'printah': 1073, 'jelaskn': 1074, 'ltk': 1075, 'ksalahanya': 1076, 'uinstalnya': 1077, 'politik': 1078, 'yuhuuuuuu': 1079, 'sayangnya': 1080, 'ambil': 1081, 'hpku': 1082, 'memperbarui': 1083, 'bntu': 1084, 'kepake': 1085, 'masalahnya': 1086, 'pull': 1087, 'mks': 1088, 'telat': 1089, 'alham': 1090, 'dulilah': 1091, 'stasiun': 1092, 'siippp': 1093, 'coy': 1094, 'laksanakan': 1095, 'tapii': 1096, 'nnti': 1097, 'nyatanya': 1098, 'salahkan': 1099, 'nakes': 1100, 'menjalankan': 1101, 'menyengsarakan': 1102, 'program²': 1103, 'laknatuallah': 1104, 'berserta': 1105, 'mempermainkan': 1106, 'jelata': 1107, 'lemoet': 1108, 'swab': 1109, 'persimple': 1110, 'dimengerti': 1111, 'hongkong': 1112, 'nmengisi': 1113, 'terbang': 1114, 'mmbntu': 1115, 'smpe': 1116, 'buruh': 1117, 'klening': 1118, 'serfis': 1119, 'matahari': 1120, 'tubuhku': 1121, 'kekuatan': 1122, 'menafkahi': 1123, 'kluarga': 1124, 'kerennnn': 1125, 'aanagat': 1126, 'mantapppp': 1127, 'jlas': 1128, 'gegara': 1129, 'luncurin': 1130, 'aplikasine': 1131, 'bapuk': 1132, 'ora': 1133, 'iso': 1134, 'vaksine': 1135, 'terdowload': 1136, 'korea': 1137, 'terverifikasi': 1138, 'tercetak': 1139, 'ngeklik': 1140, 'menarik': 1141, 'kompatibel': 1142, 'balikin': 1143, 'lemooot': 1144, 'mancaaaaap': 1145, 'urutannya': 1146, 'terbalik': 1147, 'walau': 1148, 'tadi': 1149, 'sempat': 1150, 'kesal': 1151, 'faksinya': 1152, 'pelajarin': 1153, 'kedepen': 1154, 'tolonglah': 1155, 'manualin': 1156, 'biikin': 1157, 'kerjaan': 1158, 'cape': 1159, 'ngekliknya': 1160, 'setaleh': 1161, 'sdgkn': 1162, 'stlh': 1163, 'dikembalikan': 1164, 'orng': 1165, 'tengah': 1166, 'kmbl': 1167, 'gmbr': 1168, 'thx': 1169, 'comment': 1170, 'perbahuruanya': 1171, 'ggl': 1172, 'terunda': 1173, 'chk': 1174, 'bgussss': 1175, 'rmh': 1176, 'sedikit': 1177, 'terbebas': 1178, 'pembodohan': 1179, 'wow': 1180, 'otpnya': 1181, 'pasca': 1182, 'tanyakan': 1183, 'diubah': 1184, 'sebaiknya': 1185, 'disediakan': 1186, 'opsi': 1187, 'berumur': 1188, 'sebanyak': 1189, 'jumlah': 1190, 'pening': 1191, 'selang': 1192, 'bebrapa': 1193, 'sodara': 1194, 'manapun': 1195, 'okokok': 1196, 'soa': 1197, 'joooooosssss': 1198, 'kuciwo': 1199, 'base': 1200, 'waktunya': 1201, 'digitalisasi': 1202, 'desember': 1203, 'link': 1204, 'kuliah': 1205, 'hitung': 1206, 'berpuluh': 1207, 'taun': 1208, 'ribed': 1209, 'kata': 1210, 'perangkat': 1211, 'kompetible': 1212, 'dbantu': 1213, 'ksh': 1214, 'jossssss': 1215, 'bugus': 1216, 'apkikasi': 1217, 'lumayang': 1218, 'dowlod': 1219, 'lindungin': 1220, 'kbaikkan': 1221, 'menghindar': 1222, 'chatbot': 1223, 'intruksikan': 1224, 'serifikat': 1225, 'bantuannya': 1226, 'pekerjaan': 1227, 'taiiiiii': 1228, 'hkdor': 1229, 'dikirimi': 1230, 'berlaku': 1231, 'ditungguin': 1232, 'kadaluarsa': 1233, 'sang': 1234, 'raja': 1235, 'perdiksi': 1236, 'menjal': 1237, 'kedepannnya': 1238, 'lemoot': 1239, 'bodoh': 1240, 'men': 1241, 'sesuaikan': 1242, 'masi': 1243, 'buruan': 1244, 'beruntung': 1245, 'obgt': 1246, 'setlh': 1247, 'upgrad': 1248, 'stressss': 1249, 'tlong': 1250, 'memaksakan': 1251, 'user': 1252, 'solusi': 1253, 'menyelesaikan': 1254, 'sala': 1255, 'berusaha': 1256, 'api': 1257, 'ragu': 1258, 'takutnya': 1259, 'scene': 1260, 'penjelasannya': 1261, 'batin': 1262, 'harga': 1263, 'mutu': 1264, 'nggk': 1265, 'nyoba': 1266, 'masok': 1267, 'terooos': 1268, 'labil': 1269, 'pembaharuan': 1270, 'puduli': 1271, 'bisnis': 1272, 'gasimple': 1273, 'kereeen': 1274, 'cai': 1275, 'seng': 1276, 'ade': 1277, 'apene': 1278, 'kuat': 1279, 'disayangkan': 1280, 'enakan': 1281, 'becus': 1282, 'sampurna': 1283, 'beybeeh': 1284, 'januari': 1285, 'juta': 1286, 'sedunia': 1287, 'lag': 1288, 'pdhal': 1289, 'buildernya': 1290, 'kelas': 1291, 'nasional': 1292, 'menyamakan': 1293, 'benahi': 1294, 'pelayan': 1295, 'hall': 1296, 'notifikasi': 1297, 'apelikas': 1298, 'ram': 1299, 'full': 1300, 'dipaksa': 1301, 'umun': 1302, 'mendonlow': 1303, 'kayak': 1304, 'kalai': 1305, 'kirimko': 1306, 'onu': 1307, 'iikk': 1308, 'maksi': 1309, 'heeeeee': 1310, 'pemeriksaan': 1311, 'ujung': 1312, 'hah': 1313, 'lindunge': 1314, 'mengalami': 1315, 'ngehang': 1316, 'kedepannya': 1317, 'kuiii': 1318, 'mutakhirkan': 1319, 'pendaftran': 1320, 'mnggunakan': 1321, 'klp': 1322, 'abadi': 1323, 'ngerubah': 1324, 'settifikat': 1325, 'karnakn': 1326, 'emng': 1327, 'uinstall': 1328, 'apliksi': 1329, 'cex': 1330, 'komputer': 1331, 'krja': 1332, 'atasan': 1333, 'sarannya': 1334, 'dibeberapa': 1335, 'denpasar': 1336, 'sptnya': 1337, 'jawabannya': 1338, 'ketidaknyamanan': 1339, 'menghabiskan': 1340, 'brp': 1341, 'kenap': 1342, 'tiketnya': 1343, 'outnya': 1344, 'sayaa': 1345, 'sabtu': 1346, 'vaksi': 1347, 'dukumen': 1348, 'ataukah': 1349, 'impun': 1350, 'klau': 1351, 'gemana': 1352, 'solussinya': 1353, 'terinput': 1354, 'cpat': 1355, 'sebalumnya': 1356, 'kmi': 1357, 'ucapkan': 1358, 'kpada': 1359, 'secara': 1360, 'ditail': 1361, 'disuru': 1362, 'butuhnya': 1363, 'zaman': 1364, 'now': 1365, 'ngatur': 1366, 'kudu': 1367, 'back': 1368, 'perbulan': 1369, 'nyimpen': 1370, 'goverment': 1371, 'paud': 1372, 'mash': 1373, 'setrifikat': 1374, 'bangsattt': 1375, 'apaann': 1376, 'beda': 1377, 'membawa': 1378, 'printout': 1379, 'kemanapun': 1380, 'hendak': 1381, 'bepergian': 1382, 'tuh': 1383, 'disulitin': 1384, 'prihal': 1385, 'beginian': 1386, 'gada': 1387, 'pekerja': 1388, 'pulau': 1389, 'terkoneksi': 1390, 'assalamu': 1391, 'alaikum': 1392, 'kalok': 1393, 'mmbantu': 1394, 'puji': 1395, 'tuhan': 1396, 'bila': 1397, 'pengalaman': 1398, 'pesan': 1399, 'pertanyaannya': 1400, 'serripikat': 1401, 'penanganan': 1402, 'endemi': 1403, 'robballalamiin': 1404, 'bego': 1405, 'tahunya': 1406, 'diganti': 1407, 'mosok': 1408, 'akhlak': 1409, 'jempol': 1410, 'kriting': 1411, 'perduki': 1412, 'ngeklem': 1413, 'prosedur': 1414, 'mengakses': 1415, 'perlindungan': 1416, 'balas': 1417, 'krj': 1418, 'apa²': 1419, 'berhubungan': 1420, 'lola': 1421, 'vuat': 1422, 'akal': 1423, 'akalan': 1424, 'menunya': 1425, 'gmna': 1426, 'gangguan': 1427, 'service': 1428, 'skali': 1429, 'lobi': 1430, 'registrasi': 1431, 'telpon': 1432, 'marah': 1433, 'dosa': 1434, 'setengah': 1435, 'coyyyy': 1436, 'tertulis': 1437, 'bantuanya': 1438, 'sepppp': 1439, 'certifikat': 1440, 'selanjutnya': 1441, 'diarahkan': 1442, 'subracer': 1443, 'paansi': 1444, 'hidih': 1445, 'gogle': 1446, 'noleh': 1447, 'tenaga': 1448, 'pikiran': 1449, 'mksih': 1450, 'padhal': 1451, 'ditanggal': 1452, 'kdg': 1453, 'bnr': 1454, 'sengaja': 1455, 'yaaa': 1456, 'susaah': 1457, 'kebaikan': 1458, 'manusk': 1459, 'situasi': 1460, 'apapun': 1461, 'kacung': 1462, 'who': 1463, 'adehhhh': 1464, 'daripada': 1465, 'arsenal': 1466, 'kalah': 1467, 'final': 1468, 'liga': 1469, 'champion': 1470, 'super': 1471, 'masyaallah': 1472, 'haha': 1473, 'kocak': 1474, 'beneran': 1475, 'barkot': 1476, 'diatas': 1477, 'mampuslah': 1478, 'gabti': 1479, 'wis': 1480, 'dehhh': 1481, 'niceee': 1482, 'bln': 1483, 'hrsnya': 1484, 'isinya': 1485, 'diketik': 1486, 'vksn': 1487, 'muncull': 1488, 'upgread': 1489, 'gbsaa': 1490, 'trtunda': 1491, 'cba': 1492, 'ngelik': 1493, 'mumet': 1494, 'jadul': 1495, 'competible': 1496, 'programnya': 1497, 'nyaman': 1498, 'ujungnya': 1499, 'renang': 1500, 'disungai': 1501, 'banjir': 1502, 'coronovac': 1503, 'pencegahan': 1504, 'quality': 1505, 'with': 1506, 'fast': 1507, 'response': 1508, 'really': 1509, 'mkasih': 1510, 'vaccine': 1511, 'match': 1512, 'ngaco': 1513, 'sendri': 1514, 'sedang': 1515, 'perhatikan': 1516, 'trima': 1517, 'aplikasimu': 1518, 'bosss': 1519, 'dilengkapi': 1520, 'inovasi': 1521, 'membikin': 1522, 'pemakai': 1523, 'makek': 1524, 'krtu': 1525, 'fbi': 1526, 'ftn': 1527, 'sarana': 1528, 'okee': 1529, 'ntaps': 1530, 'berkesan': 1531, 'gara': 1532, 'faqnya': 1533, 'barengan': 1534, 'one': 1535, 'menggunakannya': 1536, 'suami': 1537, 'buatin': 1538, 'buatx': 1539, 'akrab': 1540, 'peduililindunggi': 1541, 'menguntungkan': 1542, 'loadingya': 1543, 'bnget': 1544, 'munculll': 1545, 'thankss': 1546, 'bangkek': 1547, 'kkkkkkkkkkkkkkk': 1548, 'panas': 1549, 'unisntal': 1550, 'woy': 1551, 'mantapppppppp': 1552, 'luarbiasa': 1553, 'kluarnya': 1554, 'serentak': 1555, 'bagur': 1556, 'bahwasanya': 1557, 'dicetak': 1558, 'sungguh': 1559, 'tmbah': 1560, 'trbuka': 1561, 'minus': 1562, 'menurut': 1563, 'khususnya': 1564, 'inj': 1565, 'msuk': 1566, 'indonesiaku': 1567, 'aplukasi': 1568, 'cepa': 1569, 'turun': 1570, 'atasi': 1571, 'bijak': 1572, 'sahurr': 1573, 'tertuang': 1574, 'dipercaya': 1575, 'job': 1576, 'loadingnya': 1577, 'suntik': 1578, 'braktifitas': 1579, 'pederita': 1580, 'terpantau': 1581, 'puskesmasnya': 1582, 'aktive': 1583, 'woi': 1584, 'woii': 1585, 'singkron': 1586, 'kaga': 1587, 'dikirim': 1588, 'hitungan': 1589, 'september': 1590, 'sertifnya': 1591, 'haduh': 1592, 'gembar': 1593, 'gembor': 1594, 'satunya': 1595, 'pengunaan': 1596, 'baginumat': 1597, 'jooosss': 1598, 'okeh': 1599, 'sertivikatnya': 1600, 'relevan': 1601, 'berguana': 1602, 'mengetahui': 1603, 'test': 1604, 'murah': 1605, 'pecah': 1606, 'sippp': 1607, 'baarakallah': 1608, 'porla': 1609, 'paunna': 1610, 'ketigs': 1611, 'pintar': 1612, 'gan': 1613, 'terpercaya': 1614, 'bca': 1615, 'ber': 1616, 'butut': 1617, 'bangat': 1618, 'slalu': 1619, 'perbarui': 1620, 'eeeeee': 1621, 'bolak': 1622, 'ribetttttt': 1623, 'ribeeertttttt': 1624, 'mantabz': 1625, 'dounload': 1626, 'nantinya': 1627, 'pelindungi': 1628, 'tulisannya': 1629, 'membantuu': 1630, 'berbelit': 1631, 'imel': 1632, 'ngerti': 1633, 'peraturannya': 1634, 'sertikat': 1635, 'pergi': 1636, 'menunjukan': 1637, 'mengikuti': 1638, 'buruuk': 1639, 'fortinaiti': 1640, 'babaji': 1641, 'babajii': 1642, 'lancarrr': 1643, 'disore': 1644, 'apikasinya': 1645, 'notifikasinya': 1646, 'normal': 1647, 'soal': 1648, 'mengangu': 1649, 'belajar': 1650, 'daring': 1651, 'restart': 1652, 'thnks': 1653, 'tergangu': 1654, 'korupsi': 1655, 'kecil': 1656, 'kerak': 1657, 'neraka': 1658, 'musim': 1659, 'pancen': 1660, 'lumayann': 1661, 'tertunda': 1662, 'ditegaskan': 1663, 'semisal': 1664, 'kesatu': 1665, 'tampilannya': 1666, 'komplain': 1667, 'kelanjutannya': 1668, 'dukunganya': 1669, 'ribedddd': 1670, 'tertera': 1671, 'maybe': 1672, 'kepala': 1673, 'your': 1674, 'goid': 1675, 'lht': 1676, 'dbuka': 1677, 'signal': 1678, 'hlg': 1679, 'sndr': 1680, 'performansiy': 1681, 'vakainy': 1682, 'soaly': 1683, 'sejak': 1684, 'betul': 1685, 'terimakasiih': 1686, 'mudahan': 1687, 'selsai': 1688, 'byk': 1689, 'kacau': 1690, 'sakit': 1691, 'dwnlod': 1692, 'tks': 1693, 'bermutu': 1694, 'bermasker': 1695, 'kesehariannya': 1696, 'lellleeeeeet': 1697, 'leletnyaa': 1698, 'situs': 1699, 'lancar²': 1700, 'berulang': 1701, 'menghapus': 1702, 'maksimal': 1703, 'gasss': 1704, 'keun': 1705, 'maszeeh': 1706, 'kalender': 1707, 'tercantum': 1708, 'diket': 1709, 'efektif': 1710, 'kondisi': 1711, 'lamban': 1712, 'kenpa': 1713, 'loging': 1714, 'kembalikan': 1715, 'tksh': 1716, 'infonya': 1717, 'sangant': 1718, 'sayah': 1719, 'deeh': 1720, 'seritifikat': 1721, 'munculnya': 1722, 'kerenn': 1723, 'gatur': 1724, 'diperhatikan': 1725, 'sejuta': 1726, 'umat': 1727, 'busehh': 1728, 'sekalinya': 1729, 'kebuka': 1730, 'setelh': 1731, 'upgred': 1732, 'sertifikatny': 1733, 'ksih': 1734, 'boros': 1735, 'batre': 1736, 'berjalan': 1737, 'dilatar': 1738, 'mengubah': 1739, 'mentok': 1740, 'hallo': 1741, 'vertifikasi': 1742, 'pernh': 1743, 'irt': 1744, 'dirmh': 1745, 'jelekkkkkk': 1746, 'capcta': 1747, 'slide': 1748, 'dipeliduli': 1749, 'nomernya': 1750, 'gabung': 1751, 'perdana': 1752, 'pisah': 1753, 'gabis': 1754, 'alhasil': 1755, 'infut': 1756, 'temukan': 1757, 'pelengkapan': 1758, 'dibilangnya': 1759, 'didownload': 1760, 'jadilah': 1761, 'mata': 1762, 'masarakat': 1763, 'pohon': 1764, 'lupah': 1765, 'akarnya': 1766, 'kokoh': 1767, 'ngk': 1768, 'awokawok': 1769, 'yak': 1770, 'kunjung': 1771, 'thankyou': 1772, 'ķami': 1773, 'kelamaan': 1774, 'evaluasi': 1775, 'heh': 1776, 'ngeluh': 1777, 'tingkatin': 1778, 'terawan': 1779, 'agus': 1780, 'putranto': 1781, 'kesannya': 1782, 'easy': 1783, 'form': 1784, 'lsg': 1785, 'cuki': 1786, 'anjing': 1787, 'lemottt': 1788, 'olah': 1789, 'raga': 1790, 'game': 1791, 'mendidik': 1792, 'nusa': 1793, 'bangsa': 1794, 'bangga': 1795, 'trouble': 1796, 'pengoperasiannya': 1797, 'janjiin': 1798, 'nol': 1799, 'dna': 1800, 'gaji': 1801, 'buta': 1802, 'playstore': 1803, 'ttep': 1804, 'trimah': 1805, 'terkendala': 1806, 'klaimnya': 1807, 'dipencet': 1808, 'terdepan': 1809, 'salam': 1810, 'lndonesia': 1811, 'nkri': 1812, 'akbar': 1813, 'waspada': 1814, 'terosssss': 1815, 'veripikasi': 1816, 'izin': 1817, 'memberi': 1818, 'setting': 1819, 'ditulis': 1820, 'sistemnya': 1821, 'memakan': 1822, 'dwnld': 1823, 'benarbenar': 1824, 'luammmaaa': 1825, 'bangettt': 1826, 'bayangin': 1827, 'dri': 1828, 'ngerepotin': 1829, 'ngeribetin': 1830, 'songeh': 1831, 'abplot': 1832, 'kelar': 1833, 'paketan': 1834, 'mlah': 1835, 'gemns': 1836, 'mesin': 1837, 'ayo': 1838, 'sipp': 1839, 'capek_nyyaaaaaa': 1840, 'penulisan': 1841, 'smple': 1842, 'gtu': 1843, 'memberatkan': 1844, 'beraktifitas': 1845, 'meski': 1846, 'mempunyai': 1847, 'gawai': 1848, 'mentaati': 1849, 'terhindar': 1850, 'dikirimin': 1851, 'mantafffff': 1852, 'internasionalnya': 1853, 'blok': 1854, 'kepastian': 1855, 'fungsi': 1856, 'ajalah': 1857, 'nunggunya': 1858, 'artinya': 1859, 'mendorong': 1860, 'konsumtif': 1861, 'penggunaanya': 1862, 'menyedot': 1863, 'kouta': 1864, 'quota': 1865, 'dwnloadnya': 1866, 'ketinggalan': 1867, 'donlotnya': 1868, 'jawaban': 1869, 'dibenahi': 1870, 'memuas': 1871, 'melindungi': 1872, 'surtipikat': 1873, 'prioritas': 1874, 'publikk': 1875, 'kamiii': 1876, 'kaummmm': 1877, 'wifi': 1878, 'rumah': 1879, 'gabisaaa': 1880, 'agustus': 1881, 'kehitung': 1882, 'ksana': 1883, 'sini': 1884, 'donload': 1885, 'aplkasi': 1886, 'gunakn': 1887, 'aplksi': 1888, 'riwyt': 1889, 'mpe': 1890, 'programkn': 1891, 'jlnkn': 1892, 'nyata': 1893, 'terhapus': 1894, 'meminta': 1895, 'ujung²nya': 1896, 'memutar': 1897, 'hingga': 1898, 'ufhh': 1899, 'merestar': 1900, 'memperlancar': 1901, 'yuk': 1902, 'gtw': 1903, 'kren': 1904, 'kehilang': 1905, 'hehe': 1906, 'kidding': 1907, 'membuktikan': 1908, 'seseorang': 1909, 'ubah': 1910, 'cocokik': 1911, 'tekan': 1912, 'kasi': 1913, 'boss': 1914, 'mengklaim': 1915, 'says': 1916, 'difaksin': 1917, 'domestik': 1918, 'okelah': 1919, 'sempurnakan': 1920, 'over': 1921, 'all': 1922, 'kendalanya': 1923, 'rechapta': 1924, 'delay': 1925, 'stabil': 1926, 'halaman': 1927, 'reset': 1928, 'pilih': 1929, 'batas': 1930, 'attemp': 1931, 'benerr': 1932, 'vdy': 1933, 'fink': 1934, 'jung': 1935, 'statusnya': 1936, 'solusiny': 1937, 'revisi': 1938, 'baguus': 1939, 'loginnya': 1940, 'sdah': 1941, 'vaksik': 1942, 'dinyatan': 1943, 'ndak': 1944, 'nak': 1945, 'dinwlot': 1946, 'blank': 1947, 'aplk': 1948, 'kosong': 1949, 'bntuannya': 1950, 'gga': 1951, 'memverifkasi': 1952, 'vacc': 1953, 'bodohin': 1954, 'launching': 1955, 'bentar': 1956, 'hape': 1957, 'sdg': 1958, 'sorry': 1959, 'resmi': 1960, 'kominfo': 1961, 'hemmm': 1962, 'berhari': 1963, 'okw': 1964, 'pengembangnya': 1965, 'persyaratan': 1966, 'basenya': 1967, 'macem': 1968, 'diproses': 1969, 'sangatt': 1970, 'kertas': 1971, 'telah': 1972, 'kecuali': 1973, 'sendirian': 1974, 'ook': 1975, 'maaantaaap': 1976, 'ampas': 1977, 'gag': 1978, 'kelola': 1979, 'administrasi': 1980, 'otomatis': 1981, 'gimansi': 1982, 'danta': 1983, 'semkin': 1984, 'aplgi': 1985, 'trhlngny': 1986, 'jringan': 1987, 'berulng': 1988, 'pulak': 1989, 'kmudian': 1990, 'tenan': 1991, 'beban': 1992, 'dijadikan': 1993, 'diluncurkan': 1994, 'kog': 1995, 'penambahan': 1996, 'bot': 1997, 'logout': 1998, 'frustasi': 1999, 'hubungi': 2000, 'fakses': 2001, 'sii': 2002, 'merdeka': 2003, 'sepihak': 2004, 'anya': 2005, 'mobilitas': 2006, 'selebihnya': 2007, 'timbal': 2008, 'ssp': 2009, 'pool': 2010, '⁹⁹⁹': 2011, 'pkk': 2012, 'penerbitan': 2013, 'pantesan': 2014, 'cuiihhh': 2015, 'main': 2016, 'ringan': 2017, 'tipe': 2018, 'pantes': 2019, 'teratasi': 2020, 'duit': 2021, 'biasakan': 2022, 'tuk': 2023, 'baguuuus': 2024, 'dagang': 2025, 'secepatnya': 2026, 'lalai': 2027, 'tindak': 2028, 'instan': 2029, 'rasio': 2030, 'navigation': 2031, 'bar': 2032, 'boy': 2033, 'bedan': 2034, 'saling': 2035, 'time': 2036, 'bersih': 2037, 'keras': 2038, 'mem': 2039, 'berikan': 2040, 'alasan': 2041, 'kpda': 2042, 'menonton': 2043, 'bioskop': 2044, 'terdekat': 2045, 'sebab': 2046, 'mundurnya': 2047, 'crnya': 2048, 'mnt': 2049, 'bansos': 2050, 'kis': 2051, 'yallah': 2052, 'gor': 2053, 'bekasi': 2054, 'skrmg': 2055, 'maunya': 2056, 'apaa': 2057, 'jaman': 2058, 'kapan': 2059, 'sertakan': 2060, 'jompo': 2061, 'berjam': 2062, 'hempas': 2063, 'penuhi': 2064, 'gojek': 2065, 'shoppe': 2066, 'jalan²': 2067, 'klw': 2068, 'tng': 2069, 'dunia': 2070, 'akherat': 2071, 'amiiiiin': 2072, 'setifikat': 2073, 'baus': 2074, 'privacy': 2075, 'public': 2076, 'melangggar': 2077, 'privasi': 2078, 'ribettttt': 2079, 'mbah': 2080, 'walaupun': 2081, 'selama': 2082, 'aplaagi': 2083, 'klu': 2084, 'keperluan': 2085, 'mendesak': 2086, 'sertfikat': 2087, 'smart': 2088, 'serut': 2089, 'see': 2090, 'pindah': 2091, 'malaysia': 2092, 'mysejahtera': 2093, 'dibilangin': 2094, 'ngapain': 2095, 'help': 2096, 'ever': 2097, 'always': 2098, 'stay': 2099, 'healthy': 2100, 'proses': 2101, 'kamu': 2102, 'dimata': 2103, 'dirimu': 2104, 'birokrasi': 2105, 'penyempurnaan': 2106, 'ditlp': 2107, 'dsuruh': 2108, 'max': 2109, 'yaaaa': 2110, 'tanyak': 2111, 'kerena': 2112, 'paskes': 2113, 'lelah': 2114, 'sayang': 2115, 'keduanya': 2116, 'loh': 2117, 'apus': 2118, 'berulangkali': 2119, 'keamanan': 2120, 'direspon': 2121, 'tadinya': 2122, 'via': 2123, '𝔸𝕡𝕝𝕚𝕜𝕒𝕤𝕚': 2124, '𝕥𝕒𝕚': 2125, '𝕃𝕖𝕞𝕠𝕥': 2126, '𝕜𝕝𝕠': 2127, '𝕓𝕦𝕥𝕦𝕙': 2128, '𝕓𝕟𝕘𝕖𝕥': 2129, '𝕘𝕦𝕖': 2130, '𝕦𝕟𝕚𝕟𝕤𝕥𝕒𝕝𝕝': 2131, '𝕒𝕡𝕡': 2132, '𝔸𝕟𝕛𝕚𝕟𝕘': 2133, 'diterima': 2134, 'memuat': 2135, 'bebantu': 2136, 'bukanya': 2137, 'ribetlah': 2138, 'sana': 2139, 'niice': 2140, 'bentrok': 2141, 'gotong': 2142, 'royong': 2143, 'ditindaklanjuti': 2144, 'smp': 2145, 'tapil': 2146, 'penjelasan': 2147, 'atmin': 2148, 'org': 2149, 'loadiingnya': 2150, 'eka': 2151, 'perdulilindungan': 2152, 'dasar': 2153, 'maksa': 2154, 'seharusnya': 2155, 'misal': 2156, 'termonitor': 2157, 'nganjurin': 2158, 'ogah': 2159, 'diregistrasi': 2160, 'kereset': 2161, 'telek': 2162, 'kya': 2163, 'keong': 2164, 'masyrakt': 2165, 'pengoprasiannya': 2166, 'dngn': 2167, 'smpai': 2168, 'msih': 2169, 'mhon': 2170, 'prhtikn': 2171, 'sbgai': 2172, 'trims': 2173, 'heran': 2174, 'setalah': 2175, 'telf': 2176, 'call': 2177, 'center': 2178, 'koplak': 2179, 'tolak': 2180, 'msalah': 2181, 'tcih': 2182, 'keadaan': 2183, 'percaya': 2184, 'hand': 2185, 'phone': 2186, 'tiganya': 2187, 'diapk': 2188, 'pendataan': 2189, 'fix': 2190, 'lamaku': 2191, 'aktipkan': 2192, 'ribetnya': 2193, 'bet': 2194, 'ente': 2195, 'robot': 2196, 'sepabrik': 2197, 'seangkatan': 2198, 'alias': 2199, 'nyelenggarain': 2200, 'pihak': 2201, 'kepolisian': 2202, 'antigen': 2203, 'kemudahan': 2204, 'sulitt': 2205, 'menyulitkan': 2206, 'klem': 2207, 'tumben': 2208, 'gaada': 2209, 'review': 2210, 'alai': 2211, 'jelekkkkkkkkkkkkkkkkkkkkkkkkkkkk': 2212, 'bangeeeeeeeeeet': 2213, 'awokawokawok': 2214, 'busuk': 2215, 'smnjak': 2216, 'bocor': 2217, 'telfon': 2218, 'orang²': 2219, 'kepaksa': 2220, 'pirus': 2221, 'lemott': 2222, 'corona': 2223, 'muka': 2224, 'bumi': 2225, 'menang': 2226, 'undian': 2227, 'motor': 2228, 'magicom': 2229, 'papa': 2230, 'aminnn': 2231, 'yarrobalallamin': 2232, 'desa': 2233, 'karang': 2234, 'cikampek': 2235, 'brati': 2236, 'mampu': 2237, 'mengembangkan': 2238, 'software': 2239, 'diperjalanan': 2240, 'tetangga': 2241, 'freak': 2242, 'keselamatan': 2243, 'makanya': 2244, 'bmn': 2245, 'dia': 2246, 'berarti': 2247, 'daya': 2248, 'penggaprean': 2249, 'chek': 2250, 'apgredi': 2251, 'ramah': 2252, 'mansana': 2253, 'comfere': 2254, 'baguslah': 2255, 'mmantap': 2256, 'berhenti': 2257, 'ngetik': 2258, 'capca': 2259, 'termasuk': 2260, 'terimksih': 2261, 'moga': 2262, 'updet': 2263, 'melulu': 2264}\n"
          ]
        }
      ],
      "source": [
        "print (vocab_to_int)"
      ]
    },
    {
      "cell_type": "code",
      "execution_count": null,
      "metadata": {
        "id": "0NCgZ2KoEt5-",
        "colab": {
          "base_uri": "https://localhost:8080/"
        },
        "outputId": "1e64dee0-99f5-4362-f4f6-9bdd30144f7d"
      },
      "outputs": [
        {
          "output_type": "stream",
          "name": "stdout",
          "text": [
            "[[3, 63, 7, 453, 28, 3, 271, 64, 77, 25, 3, 874, 65, 875], [2, 454, 20, 36, 4, 27, 21, 80, 37, 44, 19, 7, 146, 30, 167, 31, 23, 584, 197, 45, 30, 2, 53, 4, 19, 7, 585, 40, 2, 585, 876, 877, 455, 454, 878, 586], [6, 47, 5, 879]]\n"
          ]
        }
      ],
      "source": [
        "reviews_int = []\n",
        "for review in reviews_split:\n",
        "    r = [vocab_to_int[w] for w in review.split()]\n",
        "    reviews_int.append(r)\n",
        "print (reviews_int[0:3])"
      ]
    },
    {
      "cell_type": "code",
      "execution_count": null,
      "metadata": {
        "id": "TCqy9QnHE3-S"
      },
      "outputs": [],
      "source": [
        "encoded_labels = data_v2['Sentimen'].to_numpy()"
      ]
    },
    {
      "cell_type": "code",
      "source": [
        "reviews_len = [len(x) for x in reviews_int]\n",
        "pd.Series(reviews_len).hist()\n",
        "plt.show()\n",
        "pd.Series(reviews_len).describe()"
      ],
      "metadata": {
        "id": "X5tKWgz2ZWoP",
        "colab": {
          "base_uri": "https://localhost:8080/",
          "height": 429
        },
        "outputId": "5ed20582-496f-427d-918e-7207789c0aff"
      },
      "execution_count": null,
      "outputs": [
        {
          "output_type": "display_data",
          "data": {
            "text/plain": [
              "<Figure size 432x288 with 1 Axes>"
            ],
            "image/png": "[encoded data removed]"
          },
          "metadata": {
            "needs_background": "light"
          }
        },
        {
          "output_type": "execute_result",
          "data": {
            "text/plain": [
              "count    1500.000000\n",
              "mean        7.235333\n",
              "std         9.734019\n",
              "min         1.000000\n",
              "25%         1.000000\n",
              "50%         3.000000\n",
              "75%         9.000000\n",
              "max        71.000000\n",
              "dtype: float64"
            ]
          },
          "metadata": {},
          "execution_count": 16
        }
      ]
    },
    {
      "cell_type": "code",
      "execution_count": null,
      "metadata": {
        "id": "Q9FPno9BFP17"
      },
      "outputs": [],
      "source": [
        "def pad_features(reviews_int, seq_length):\n",
        "  ''' Return features of review_ints, where each review is padded with 0's or \n",
        "  truncated to the input seq_length. '''\n",
        "  features = np.zeros((len(reviews_int), seq_length), dtype = int)\n",
        "  for i, review in enumerate(reviews_int):\n",
        "    review_len = len(review)  \n",
        "    if review_len <= seq_length:\n",
        "      zeroes = list(np.zeros(seq_length-review_len))\n",
        "      new = zeroes+review\n",
        "    elif review_len > seq_length:\n",
        "      new = review[0:seq_length]\n",
        "    features[i,:] = np.array(new)\n",
        "  return features"
      ]
    },
    {
      "cell_type": "code",
      "execution_count": null,
      "metadata": {
        "id": "PT7eDL3kFrfR"
      },
      "outputs": [],
      "source": [
        "features = pad_features(reviews_int,100)"
      ]
    },
    {
      "cell_type": "code",
      "execution_count": null,
      "metadata": {
        "id": "4NGaT_PLFkp1",
        "colab": {
          "base_uri": "https://localhost:8080/"
        },
        "outputId": "f24b3d52-3b51-4555-8691-1d47573e8de9"
      },
      "outputs": [
        {
          "output_type": "stream",
          "name": "stdout",
          "text": [
            "[[  0   0   0   0   0   0   0   0   0   0   0   0   0   0   0   0   0   0\n",
            "    0   0   0   0   0   0   0   0   0   0   0   0   0   0   0   0   0   0\n",
            "    0   0   0   0   0   0   0   0   0   0   0   0   0   0   0   0   0   0\n",
            "    0   0   0   0   0   0   0   0   0   0   0   0   0   0   0   0   0   0\n",
            "    0   0   0   0   0   0   0   0   0   0   0   0   0   0   3  63   7 453\n",
            "   28   3 271  64  77  25   3 874  65 875]\n",
            " [  0   0   0   0   0   0   0   0   0   0   0   0   0   0   0   0   0   0\n",
            "    0   0   0   0   0   0   0   0   0   0   0   0   0   0   0   0   0   0\n",
            "    0   0   0   0   0   0   0   0   0   0   0   0   0   0   0   0   0   0\n",
            "    0   0   0   0   0   0   0   0   0   0   2 454  20  36   4  27  21  80\n",
            "   37  44  19   7 146  30 167  31  23 584 197  45  30   2  53   4  19   7\n",
            "  585  40   2 585 876 877 455 454 878 586]\n",
            " [  0   0   0   0   0   0   0   0   0   0   0   0   0   0   0   0   0   0\n",
            "    0   0   0   0   0   0   0   0   0   0   0   0   0   0   0   0   0   0\n",
            "    0   0   0   0   0   0   0   0   0   0   0   0   0   0   0   0   0   0\n",
            "    0   0   0   0   0   0   0   0   0   0   0   0   0   0   0   0   0   0\n",
            "    0   0   0   0   0   0   0   0   0   0   0   0   0   0   0   0   0   0\n",
            "    0   0   0   0   0   0   6  47   5 879]\n",
            " [  0   0   0   0   0   0   0   0   0   0   0   0   0   0   0   0   0   0\n",
            "    0   0   0   0   0   0   0   0   0   0   0   0   0   0   0   0   0   0\n",
            "    0   0   0   0   0   0   0   0   0   0   0   0   0   0   0   0   0   0\n",
            "    0   0   0   0   0   0   0   0   0   0   0   0   0   0   0   0   0   0\n",
            "    0   0   0   0   0   0   0   0   0   0   0   0   0   0   0   0   0   0\n",
            "    0   0   0   0   0   0   0   0   0 880]\n",
            " [  0   0   0   0   0   0   0   0   0   0   0   0   0   0   0   0   0   0\n",
            "    0   0   0   0   0   0   0   0   0   0   0   0   0   0   0   0   0   0\n",
            "    0   0   0   0   0   0   0   0   0   0   0   0   0   0   0   0   0   0\n",
            "    0   0   0   0   0   0   0   0   0   0   0   0   0   0   0   0   0   0\n",
            "    0   0   0   0   0   0   0   0   0   0   0   0   0   0   0   0   0   0\n",
            "    0   0   0   0   0   0   0   0   0 881]]\n"
          ]
        }
      ],
      "source": [
        "print(features[:5,:])"
      ]
    },
    {
      "cell_type": "code",
      "execution_count": null,
      "metadata": {
        "id": "mHs0dynbGSpU"
      },
      "outputs": [],
      "source": [
        "len_feat = len(features)"
      ]
    },
    {
      "cell_type": "code",
      "execution_count": null,
      "metadata": {
        "id": "4Fdn4CcNpm16"
      },
      "outputs": [],
      "source": [
        "split_frac = 2/3\n",
        "train_x = features[0:int(split_frac*len_feat)]\n",
        "train_y = encoded_labels[0:int(split_frac*len_feat)]\n",
        "remaining_x = features[int(split_frac*len_feat):]\n",
        "remaining_y = encoded_labels[int(split_frac*len_feat):]\n",
        "valid_x = remaining_x[0:int(len(remaining_x)*0.5)]\n",
        "valid_y = remaining_y[0:int(len(remaining_y)*0.5)]\n",
        "test_x = remaining_x[int(len(remaining_x)*0.5):]\n",
        "test_y = remaining_y[int(len(remaining_y)*0.5):]"
      ]
    },
    {
      "cell_type": "code",
      "execution_count": null,
      "metadata": {
        "id": "oFByJSAvGhru"
      },
      "outputs": [],
      "source": [
        "# create Tensor datasets\n",
        "train_data = TensorDataset(torch.from_numpy(train_x), torch.from_numpy(train_y))\n",
        "valid_data = TensorDataset(torch.from_numpy(valid_x), torch.from_numpy(valid_y))\n",
        "test_data = TensorDataset(torch.from_numpy(test_x), torch.from_numpy(test_y))\n",
        "# dataloaders\n",
        "batch_size = 50\n",
        "# make sure to SHUFFLE your data\n",
        "train_loader = DataLoader(train_data, shuffle=True, batch_size=batch_size)\n",
        "valid_loader = DataLoader(valid_data, shuffle=True, batch_size=batch_size)\n",
        "test_loader = DataLoader(test_data, shuffle=False, batch_size=batch_size)"
      ]
    },
    {
      "cell_type": "code",
      "execution_count": null,
      "metadata": {
        "id": "7TypS8jzG1fF",
        "colab": {
          "base_uri": "https://localhost:8080/"
        },
        "outputId": "69d2e683-1c79-4c0d-f203-b9f5ac94e81b"
      },
      "outputs": [
        {
          "output_type": "stream",
          "name": "stdout",
          "text": [
            "Sample input size:  torch.Size([50, 100])\n",
            "Sample input: \n",
            " tensor([[   0,    0,    0,  ...,   19,   20,   15],\n",
            "        [   0,    0,    0,  ...,   27,   19,    7],\n",
            "        [   0,    0,    0,  ...,    7,   74, 1880],\n",
            "        ...,\n",
            "        [   0,    0,    0,  ...,    0,    0,  181],\n",
            "        [   0,    0,    0,  ...,    0,    0,   18],\n",
            "        [   0,    0,    0,  ...,  353,    3,    1]])\n",
            "\n",
            "Sample label size:  torch.Size([50])\n",
            "Sample label: \n",
            " tensor([0, 0, 0, 1, 0, 0, 1, 0, 0, 1, 1, 1, 0, 1, 0, 1, 1, 1, 1, 1, 1, 0, 0, 0,\n",
            "        0, 0, 1, 1, 1, 0, 1, 1, 1, 1, 1, 0, 0, 1, 1, 0, 1, 1, 0, 1, 0, 0, 1, 0,\n",
            "        1, 1])\n"
          ]
        }
      ],
      "source": [
        "# obtain one batch of training data\n",
        "dataiter = iter(valid_loader)\n",
        "sample_x, sample_y = dataiter.next()\n",
        "print('Sample input size: ', sample_x.size()) # batch_size, seq_length\n",
        "print('Sample input: \\n', sample_x)\n",
        "print()\n",
        "print('Sample label size: ', sample_y.size()) # batch_size\n",
        "print('Sample label: \\n', sample_y)"
      ]
    },
    {
      "cell_type": "markdown",
      "metadata": {
        "id": "POod6yN4rIPa"
      },
      "source": [
        "#3. Model Building"
      ]
    },
    {
      "cell_type": "code",
      "execution_count": null,
      "metadata": {
        "id": "lYKvmuvl5MFp"
      },
      "outputs": [],
      "source": [
        "class SentimentLSTM(nn.Module):\n",
        "  #The RNN model that will be used to perform Sentiment analysis.\n",
        "  def __init__(self, vocab_size, output_size, embedding_dim, hidden_dim, \n",
        "               n_layers, drop_prob=0.5):\n",
        "    \"\"\"\n",
        "    Initialize the model by setting up the layers.\n",
        "    \"\"\"\n",
        "    super().__init__()\n",
        "    self.output_size = output_size\n",
        "    self.n_layers = n_layers\n",
        "    self.hidden_dim = hidden_dim\n",
        "    # embedding and LSTM layers\n",
        "    self.embedding = nn.Embedding(vocab_size, embedding_dim)\n",
        "    if (n_layers > 1):\n",
        "      self.lstm = nn.LSTM(embedding_dim, hidden_dim, n_layers, \n",
        "                          dropout=drop_prob, batch_first=True)\n",
        "    else:\n",
        "      self.lstm = nn.LSTM(embedding_dim, hidden_dim, n_layers, batch_first=True)\n",
        "    # dropout layer\n",
        "    self.dropout = nn.Dropout(0.3)\n",
        "    # linear and sigmoid layers\n",
        "    self.fc = nn.Linear(hidden_dim, output_size)\n",
        "    self.sig = nn.Sigmoid()\n",
        "        \n",
        "  def forward(self, x, hidden):\n",
        "    #Perform a forward pass of our model on some input and hidden state.\n",
        "    batch_size = x.size(0)\n",
        "    # embeddings and lstm_out\n",
        "    embeds = self.embedding(x)\n",
        "    lstm_out, hidden = self.lstm(embeds, hidden)\n",
        "    # stack up lstm outputs\n",
        "    lstm_out = lstm_out.contiguous().view(-1, self.hidden_dim) \n",
        "    # dropout and fully-connected layer\n",
        "    out = self.dropout(lstm_out)\n",
        "    out = self.fc(out)\n",
        "    # sigmoid function\n",
        "    sig_out = self.sig(out)\n",
        "    # reshape to be batch_size first\n",
        "    sig_out = sig_out.view(batch_size, -1)\n",
        "    sig_out = sig_out[:, -1] # get last batch of labels\n",
        "    # return last sigmoid output and hidden state\n",
        "    return sig_out, hidden\n",
        "    \n",
        "  def init_hidden(self, batch_size):\n",
        "    #Initializes hidden state\n",
        "    # Create two new tensors with sizes n_layers x batch_size x hidden_dim,\n",
        "    # initialized to zero, for hidden state and cell state of LSTM\n",
        "    weight = next(self.parameters()).data\n",
        "    hidden = (weight.new(self.n_layers, batch_size, self.hidden_dim).zero_(), \n",
        "              weight.new(self.n_layers, batch_size, self.hidden_dim).zero_())\n",
        "    return hidden"
      ]
    },
    {
      "cell_type": "code",
      "execution_count": null,
      "metadata": {
        "id": "rbZmAv6LgwXW"
      },
      "outputs": [],
      "source": [
        "#Hyperparameters\n",
        "lr=0.01\n",
        "embedding_dims = [200,400]\n",
        "hidden_dims = [128,256]\n",
        "n_layers = [1,2]\n",
        "optimizers = [\"Adam\", \"SGD\"]"
      ]
    },
    {
      "cell_type": "code",
      "execution_count": null,
      "metadata": {
        "id": "VE7Ad4UYhw0n"
      },
      "outputs": [],
      "source": [
        "def create_model(embedding_dim, hidden_dim, n_layer, optimizer):\n",
        "  vocab_size = len(vocab_to_int)+1 # +1 for the 0 padding\n",
        "  output_size = 1\n",
        "  net = SentimentLSTM(vocab_size, output_size, embedding_dim, hidden_dim, n_layer)\n",
        "  if optimizer == \"Adam\":\n",
        "    optimizer = torch.optim.Adam(net.parameters(), lr=lr)\n",
        "  else:\n",
        "    optimizer = torch.optim.SGD(net.parameters(), lr=lr)\n",
        "  return net, optimizer"
      ]
    },
    {
      "cell_type": "code",
      "execution_count": null,
      "metadata": {
        "id": "1kc_EhbPiNIn"
      },
      "outputs": [],
      "source": [
        "models = []\n",
        "for embedding_dim in embedding_dims:\n",
        "  for hidden_dim in hidden_dims:\n",
        "    for n_layer in n_layers:\n",
        "      for optimizer in optimizers:\n",
        "        net, optim = create_model(embedding_dim, hidden_dim, n_layer, optimizer)\n",
        "        models.append([net, optim])"
      ]
    },
    {
      "cell_type": "code",
      "execution_count": null,
      "metadata": {
        "id": "tTuTH8KPYcIK",
        "colab": {
          "base_uri": "https://localhost:8080/"
        },
        "outputId": "5032a040-d33e-4720-ef58-8b916a7232b8"
      },
      "outputs": [
        {
          "output_type": "stream",
          "name": "stdout",
          "text": [
            "Model ke-1\n",
            "[SentimentLSTM(\n",
            "  (embedding): Embedding(2265, 200)\n",
            "  (lstm): LSTM(200, 128, batch_first=True)\n",
            "  (dropout): Dropout(p=0.3, inplace=False)\n",
            "  (fc): Linear(in_features=128, out_features=1, bias=True)\n",
            "  (sig): Sigmoid()\n",
            "), Adam (\n",
            "Parameter Group 0\n",
            "    amsgrad: False\n",
            "    betas: (0.9, 0.999)\n",
            "    eps: 1e-08\n",
            "    lr: 0.01\n",
            "    maximize: False\n",
            "    weight_decay: 0\n",
            ")] \n",
            "\n",
            "Model ke-2\n",
            "[SentimentLSTM(\n",
            "  (embedding): Embedding(2265, 200)\n",
            "  (lstm): LSTM(200, 128, batch_first=True)\n",
            "  (dropout): Dropout(p=0.3, inplace=False)\n",
            "  (fc): Linear(in_features=128, out_features=1, bias=True)\n",
            "  (sig): Sigmoid()\n",
            "), SGD (\n",
            "Parameter Group 0\n",
            "    dampening: 0\n",
            "    lr: 0.01\n",
            "    maximize: False\n",
            "    momentum: 0\n",
            "    nesterov: False\n",
            "    weight_decay: 0\n",
            ")] \n",
            "\n",
            "Model ke-3\n",
            "[SentimentLSTM(\n",
            "  (embedding): Embedding(2265, 200)\n",
            "  (lstm): LSTM(200, 128, num_layers=2, batch_first=True, dropout=0.5)\n",
            "  (dropout): Dropout(p=0.3, inplace=False)\n",
            "  (fc): Linear(in_features=128, out_features=1, bias=True)\n",
            "  (sig): Sigmoid()\n",
            "), Adam (\n",
            "Parameter Group 0\n",
            "    amsgrad: False\n",
            "    betas: (0.9, 0.999)\n",
            "    eps: 1e-08\n",
            "    lr: 0.01\n",
            "    maximize: False\n",
            "    weight_decay: 0\n",
            ")] \n",
            "\n",
            "Model ke-4\n",
            "[SentimentLSTM(\n",
            "  (embedding): Embedding(2265, 200)\n",
            "  (lstm): LSTM(200, 128, num_layers=2, batch_first=True, dropout=0.5)\n",
            "  (dropout): Dropout(p=0.3, inplace=False)\n",
            "  (fc): Linear(in_features=128, out_features=1, bias=True)\n",
            "  (sig): Sigmoid()\n",
            "), SGD (\n",
            "Parameter Group 0\n",
            "    dampening: 0\n",
            "    lr: 0.01\n",
            "    maximize: False\n",
            "    momentum: 0\n",
            "    nesterov: False\n",
            "    weight_decay: 0\n",
            ")] \n",
            "\n",
            "Model ke-5\n",
            "[SentimentLSTM(\n",
            "  (embedding): Embedding(2265, 200)\n",
            "  (lstm): LSTM(200, 256, batch_first=True)\n",
            "  (dropout): Dropout(p=0.3, inplace=False)\n",
            "  (fc): Linear(in_features=256, out_features=1, bias=True)\n",
            "  (sig): Sigmoid()\n",
            "), Adam (\n",
            "Parameter Group 0\n",
            "    amsgrad: False\n",
            "    betas: (0.9, 0.999)\n",
            "    eps: 1e-08\n",
            "    lr: 0.01\n",
            "    maximize: False\n",
            "    weight_decay: 0\n",
            ")] \n",
            "\n",
            "Model ke-6\n",
            "[SentimentLSTM(\n",
            "  (embedding): Embedding(2265, 200)\n",
            "  (lstm): LSTM(200, 256, batch_first=True)\n",
            "  (dropout): Dropout(p=0.3, inplace=False)\n",
            "  (fc): Linear(in_features=256, out_features=1, bias=True)\n",
            "  (sig): Sigmoid()\n",
            "), SGD (\n",
            "Parameter Group 0\n",
            "    dampening: 0\n",
            "    lr: 0.01\n",
            "    maximize: False\n",
            "    momentum: 0\n",
            "    nesterov: False\n",
            "    weight_decay: 0\n",
            ")] \n",
            "\n",
            "Model ke-7\n",
            "[SentimentLSTM(\n",
            "  (embedding): Embedding(2265, 200)\n",
            "  (lstm): LSTM(200, 256, num_layers=2, batch_first=True, dropout=0.5)\n",
            "  (dropout): Dropout(p=0.3, inplace=False)\n",
            "  (fc): Linear(in_features=256, out_features=1, bias=True)\n",
            "  (sig): Sigmoid()\n",
            "), Adam (\n",
            "Parameter Group 0\n",
            "    amsgrad: False\n",
            "    betas: (0.9, 0.999)\n",
            "    eps: 1e-08\n",
            "    lr: 0.01\n",
            "    maximize: False\n",
            "    weight_decay: 0\n",
            ")] \n",
            "\n",
            "Model ke-8\n",
            "[SentimentLSTM(\n",
            "  (embedding): Embedding(2265, 200)\n",
            "  (lstm): LSTM(200, 256, num_layers=2, batch_first=True, dropout=0.5)\n",
            "  (dropout): Dropout(p=0.3, inplace=False)\n",
            "  (fc): Linear(in_features=256, out_features=1, bias=True)\n",
            "  (sig): Sigmoid()\n",
            "), SGD (\n",
            "Parameter Group 0\n",
            "    dampening: 0\n",
            "    lr: 0.01\n",
            "    maximize: False\n",
            "    momentum: 0\n",
            "    nesterov: False\n",
            "    weight_decay: 0\n",
            ")] \n",
            "\n",
            "Model ke-9\n",
            "[SentimentLSTM(\n",
            "  (embedding): Embedding(2265, 400)\n",
            "  (lstm): LSTM(400, 128, batch_first=True)\n",
            "  (dropout): Dropout(p=0.3, inplace=False)\n",
            "  (fc): Linear(in_features=128, out_features=1, bias=True)\n",
            "  (sig): Sigmoid()\n",
            "), Adam (\n",
            "Parameter Group 0\n",
            "    amsgrad: False\n",
            "    betas: (0.9, 0.999)\n",
            "    eps: 1e-08\n",
            "    lr: 0.01\n",
            "    maximize: False\n",
            "    weight_decay: 0\n",
            ")] \n",
            "\n",
            "Model ke-10\n",
            "[SentimentLSTM(\n",
            "  (embedding): Embedding(2265, 400)\n",
            "  (lstm): LSTM(400, 128, batch_first=True)\n",
            "  (dropout): Dropout(p=0.3, inplace=False)\n",
            "  (fc): Linear(in_features=128, out_features=1, bias=True)\n",
            "  (sig): Sigmoid()\n",
            "), SGD (\n",
            "Parameter Group 0\n",
            "    dampening: 0\n",
            "    lr: 0.01\n",
            "    maximize: False\n",
            "    momentum: 0\n",
            "    nesterov: False\n",
            "    weight_decay: 0\n",
            ")] \n",
            "\n",
            "Model ke-11\n",
            "[SentimentLSTM(\n",
            "  (embedding): Embedding(2265, 400)\n",
            "  (lstm): LSTM(400, 128, num_layers=2, batch_first=True, dropout=0.5)\n",
            "  (dropout): Dropout(p=0.3, inplace=False)\n",
            "  (fc): Linear(in_features=128, out_features=1, bias=True)\n",
            "  (sig): Sigmoid()\n",
            "), Adam (\n",
            "Parameter Group 0\n",
            "    amsgrad: False\n",
            "    betas: (0.9, 0.999)\n",
            "    eps: 1e-08\n",
            "    lr: 0.01\n",
            "    maximize: False\n",
            "    weight_decay: 0\n",
            ")] \n",
            "\n",
            "Model ke-12\n",
            "[SentimentLSTM(\n",
            "  (embedding): Embedding(2265, 400)\n",
            "  (lstm): LSTM(400, 128, num_layers=2, batch_first=True, dropout=0.5)\n",
            "  (dropout): Dropout(p=0.3, inplace=False)\n",
            "  (fc): Linear(in_features=128, out_features=1, bias=True)\n",
            "  (sig): Sigmoid()\n",
            "), SGD (\n",
            "Parameter Group 0\n",
            "    dampening: 0\n",
            "    lr: 0.01\n",
            "    maximize: False\n",
            "    momentum: 0\n",
            "    nesterov: False\n",
            "    weight_decay: 0\n",
            ")] \n",
            "\n",
            "Model ke-13\n",
            "[SentimentLSTM(\n",
            "  (embedding): Embedding(2265, 400)\n",
            "  (lstm): LSTM(400, 256, batch_first=True)\n",
            "  (dropout): Dropout(p=0.3, inplace=False)\n",
            "  (fc): Linear(in_features=256, out_features=1, bias=True)\n",
            "  (sig): Sigmoid()\n",
            "), Adam (\n",
            "Parameter Group 0\n",
            "    amsgrad: False\n",
            "    betas: (0.9, 0.999)\n",
            "    eps: 1e-08\n",
            "    lr: 0.01\n",
            "    maximize: False\n",
            "    weight_decay: 0\n",
            ")] \n",
            "\n",
            "Model ke-14\n",
            "[SentimentLSTM(\n",
            "  (embedding): Embedding(2265, 400)\n",
            "  (lstm): LSTM(400, 256, batch_first=True)\n",
            "  (dropout): Dropout(p=0.3, inplace=False)\n",
            "  (fc): Linear(in_features=256, out_features=1, bias=True)\n",
            "  (sig): Sigmoid()\n",
            "), SGD (\n",
            "Parameter Group 0\n",
            "    dampening: 0\n",
            "    lr: 0.01\n",
            "    maximize: False\n",
            "    momentum: 0\n",
            "    nesterov: False\n",
            "    weight_decay: 0\n",
            ")] \n",
            "\n",
            "Model ke-15\n",
            "[SentimentLSTM(\n",
            "  (embedding): Embedding(2265, 400)\n",
            "  (lstm): LSTM(400, 256, num_layers=2, batch_first=True, dropout=0.5)\n",
            "  (dropout): Dropout(p=0.3, inplace=False)\n",
            "  (fc): Linear(in_features=256, out_features=1, bias=True)\n",
            "  (sig): Sigmoid()\n",
            "), Adam (\n",
            "Parameter Group 0\n",
            "    amsgrad: False\n",
            "    betas: (0.9, 0.999)\n",
            "    eps: 1e-08\n",
            "    lr: 0.01\n",
            "    maximize: False\n",
            "    weight_decay: 0\n",
            ")] \n",
            "\n",
            "Model ke-16\n",
            "[SentimentLSTM(\n",
            "  (embedding): Embedding(2265, 400)\n",
            "  (lstm): LSTM(400, 256, num_layers=2, batch_first=True, dropout=0.5)\n",
            "  (dropout): Dropout(p=0.3, inplace=False)\n",
            "  (fc): Linear(in_features=256, out_features=1, bias=True)\n",
            "  (sig): Sigmoid()\n",
            "), SGD (\n",
            "Parameter Group 0\n",
            "    dampening: 0\n",
            "    lr: 0.01\n",
            "    maximize: False\n",
            "    momentum: 0\n",
            "    nesterov: False\n",
            "    weight_decay: 0\n",
            ")] \n",
            "\n"
          ]
        }
      ],
      "source": [
        "nomor = 1\n",
        "for a in models:\n",
        "  print(\"Model ke-{}\".format(nomor))\n",
        "  nomor += 1\n",
        "  print(a, \"\\n\")"
      ]
    },
    {
      "cell_type": "code",
      "source": [
        "setop"
      ],
      "metadata": {
        "id": "idMHie34hBpM"
      },
      "execution_count": null,
      "outputs": []
    },
    {
      "cell_type": "markdown",
      "metadata": {
        "id": "23q7tMHLv4z-"
      },
      "source": [
        "#4. Training and Testing"
      ]
    },
    {
      "cell_type": "code",
      "execution_count": null,
      "metadata": {
        "id": "NZVpdCDrlKX7"
      },
      "outputs": [],
      "source": [
        "criterion = nn.BCELoss()\n",
        "epochs = 10\n",
        "clip=5\n",
        "model_losses = []\n",
        "model_val_losses = []\n",
        "model_lowest_avg_losses = []\n",
        "counter = 1\n",
        "for net, optimizer in models:\n",
        "  losses = []\n",
        "  val_losses = []\n",
        "  lowest_avg_losses = 1\n",
        "  net.train()\n",
        "  print(\"model ke-{}\".format(counter))\n",
        "  for e in range(epochs):\n",
        "    h = net.init_hidden(batch_size)\n",
        "    for inputs, labels in train_loader:\n",
        "      h = tuple([each.data for each in h])\n",
        "      net.zero_grad()\n",
        "      inputs = inputs.type(torch.LongTensor)\n",
        "      output, h = net(inputs, h)\n",
        "      loss = criterion(output.squeeze(), labels.float())\n",
        "      loss.backward()\n",
        "      nn.utils.clip_grad_norm_(net.parameters(), clip)\n",
        "      optimizer.step()\n",
        "    losses.append(loss.item())\n",
        "    val_h = net.init_hidden(batch_size)\n",
        "    net.eval()\n",
        "    for inputs, labels in valid_loader:\n",
        "      val_h = tuple([each.data for each in val_h])\n",
        "      inputs = inputs.type(torch.LongTensor)\n",
        "      output, val_h = net(inputs, val_h)\n",
        "      val_loss = criterion(output.squeeze(), labels.float())\n",
        "    val_losses.append(val_loss.item())\n",
        "    avg_losses = (loss.item()+val_loss.item())/2\n",
        "    if (avg_losses < lowest_avg_losses):\n",
        "      lowest_avg_losses = avg_losses\n",
        "      torch.save(net.state_dict(), '/content/model{}.pt'.format(counter))\n",
        "    print(\"Epoch: {}/{}...\".format(e+1, epochs), \"Loss: {:.6f}...\".format(loss.item()), \"Val Loss: {:.6f}\".format(val_loss.item()))\n",
        "    net.train()\n",
        "  print(\"Rata-rata loss terkecil:{}\".format(lowest_avg_losses))\n",
        "  model_losses.append(losses)\n",
        "  model_val_losses.append(val_losses)\n",
        "  model_lowest_avg_losses.append(lowest_avg_losses)\n",
        "  counter += 1"
      ]
    },
    {
      "cell_type": "code",
      "execution_count": null,
      "metadata": {
        "id": "MeHfa39nOP1w"
      },
      "outputs": [],
      "source": [
        "epochs = 10\n",
        "plt_epochs = range(1,epochs+1)\n",
        "plt.plot(plt_epochs, model_losses[0], 'g', label='Training loss')\n",
        "plt.plot(plt_epochs, model_val_losses[0], 'b', label='validation loss')\n",
        "plt.title('Training and Validation loss')\n",
        "plt.xticks(range(1, 11))\n",
        "plt.xlabel('Epochs')\n",
        "plt.ylabel('Loss')\n",
        "plt.legend()\n",
        "plt.show()"
      ]
    },
    {
      "cell_type": "code",
      "execution_count": null,
      "metadata": {
        "id": "V8o3ZKq0JgT-"
      },
      "outputs": [],
      "source": [
        "counter = 1\n",
        "for net, optimizer in models:\n",
        "  net.load_state_dict(torch.load('/content/model{}.pt'.format(counter)))\n",
        "  break\n",
        "  counter += 1"
      ]
    },
    {
      "cell_type": "code",
      "execution_count": null,
      "metadata": {
        "id": "sRL3uX6sgeCQ"
      },
      "outputs": [],
      "source": [
        "np_models = np.array(models)"
      ]
    },
    {
      "cell_type": "code",
      "execution_count": null,
      "metadata": {
        "id": "YSsutgo1halz",
        "colab": {
          "base_uri": "https://localhost:8080/"
        },
        "outputId": "10ccf085-6c9f-479a-a651-a3fc2dc4bf45"
      },
      "outputs": [
        {
          "output_type": "execute_result",
          "data": {
            "text/plain": [
              "array([SentimentLSTM(\n",
              "         (embedding): Embedding(2265, 200)\n",
              "         (lstm): LSTM(200, 128, batch_first=True)\n",
              "         (dropout): Dropout(p=0.3, inplace=False)\n",
              "         (fc): Linear(in_features=128, out_features=1, bias=True)\n",
              "         (sig): Sigmoid()\n",
              "       )                                                         ,\n",
              "       Adam (\n",
              "       Parameter Group 0\n",
              "           amsgrad: False\n",
              "           betas: (0.9, 0.999)\n",
              "           eps: 1e-08\n",
              "           lr: 0.01\n",
              "           maximize: False\n",
              "           weight_decay: 0\n",
              "       )                      ], dtype=object)"
            ]
          },
          "metadata": {},
          "execution_count": 56
        }
      ],
      "source": [
        "np_models[0]"
      ]
    },
    {
      "cell_type": "code",
      "execution_count": null,
      "metadata": {
        "id": "E0wqSDfKfhdj"
      },
      "outputs": [],
      "source": [
        "criterion = nn.BCELoss()\n",
        "#best model\n",
        "net = np_models[0][0]\n",
        "test_losses = [] # track loss\n",
        "all_labels = torch.tensor([])\n",
        "all_preds = torch.tensor([])\n",
        "h = net.init_hidden(batch_size)\n",
        "net.eval()\n",
        "# iterate over test data\n",
        "for inputs, labels in test_loader:\n",
        "  h = tuple([each.data for each in h])\n",
        "  inputs = inputs.type(torch.LongTensor)\n",
        "  output, h = net(inputs, h)\n",
        "  test_loss = criterion(output.squeeze(), labels.float())\n",
        "  test_losses.append(test_loss.item())\n",
        "  pred = torch.round(output.squeeze())\n",
        "  all_preds = torch.cat((all_preds, pred),dim=0)\n",
        "  all_labels = torch.cat((all_labels, labels),dim=0)\n",
        "  np_preds = all_preds.detach().numpy()\n",
        "  np_labels = all_labels.detach().numpy()"
      ]
    },
    {
      "cell_type": "code",
      "source": [
        "np_preds"
      ],
      "metadata": {
        "colab": {
          "base_uri": "https://localhost:8080/"
        },
        "id": "b0cc4GRZp0Qd",
        "outputId": "1babacca-76b1-4393-e31c-8f3e2f2f7d99"
      },
      "execution_count": null,
      "outputs": [
        {
          "output_type": "execute_result",
          "data": {
            "text/plain": [
              "array([1., 1., 1., 0., 1., 0., 0., 0., 1., 1., 0., 0., 1., 1., 0., 0., 0.,\n",
              "       0., 1., 0., 0., 1., 0., 1., 0., 1., 1., 0., 1., 1., 1., 1., 1., 0.,\n",
              "       1., 1., 1., 0., 1., 0., 1., 0., 0., 0., 0., 1., 1., 1., 0., 0., 0.,\n",
              "       1., 1., 1., 1., 1., 0., 1., 1., 0., 1., 1., 1., 0., 0., 0., 0., 1.,\n",
              "       0., 1., 0., 1., 1., 0., 0., 1., 1., 0., 1., 1., 1., 1., 0., 1., 0.,\n",
              "       1., 0., 1., 0., 1., 1., 1., 1., 0., 0., 1., 1., 1., 1., 0., 1., 1.,\n",
              "       1., 1., 0., 1., 0., 0., 0., 1., 1., 0., 1., 1., 0., 1., 0., 0., 1.,\n",
              "       0., 1., 1., 1., 1., 1., 1., 0., 1., 1., 1., 1., 0., 0., 0., 1., 1.,\n",
              "       1., 0., 0., 0., 1., 1., 0., 0., 0., 0., 1., 1., 1., 0., 0., 0., 1.,\n",
              "       0., 1., 1., 0., 0., 1., 0., 1., 0., 1., 1., 1., 1., 1., 0., 1., 1.,\n",
              "       1., 0., 1., 0., 1., 1., 0., 1., 1., 0., 1., 1., 1., 0., 1., 1., 1.,\n",
              "       0., 0., 0., 0., 0., 1., 0., 0., 0., 1., 1., 1., 1., 0., 1., 0., 0.,\n",
              "       1., 0., 0., 0., 1., 1., 0., 1., 1., 0., 1., 1., 1., 1., 1., 0., 1.,\n",
              "       1., 0., 0., 0., 1., 1., 1., 1., 0., 1., 1., 0., 1., 1., 1., 0., 1.,\n",
              "       1., 1., 0., 0., 1., 1., 0., 1., 1., 1., 0., 1.], dtype=float32)"
            ]
          },
          "metadata": {},
          "execution_count": 58
        }
      ]
    },
    {
      "cell_type": "code",
      "source": [
        "np_labels"
      ],
      "metadata": {
        "colab": {
          "base_uri": "https://localhost:8080/"
        },
        "id": "8CgjDjN4p7uo",
        "outputId": "6ae6379c-590a-4759-c777-432ee4201a22"
      },
      "execution_count": null,
      "outputs": [
        {
          "output_type": "execute_result",
          "data": {
            "text/plain": [
              "array([1., 1., 1., 0., 1., 0., 0., 0., 1., 1., 0., 1., 1., 1., 0., 0., 0.,\n",
              "       0., 1., 0., 0., 1., 0., 1., 0., 1., 1., 0., 1., 1., 1., 1., 1., 0.,\n",
              "       1., 1., 1., 0., 1., 0., 1., 0., 0., 0., 0., 1., 1., 1., 0., 1., 0.,\n",
              "       0., 1., 1., 1., 1., 0., 1., 1., 0., 1., 1., 1., 0., 1., 0., 0., 1.,\n",
              "       1., 1., 0., 1., 1., 1., 1., 1., 1., 0., 1., 1., 1., 1., 0., 1., 0.,\n",
              "       1., 0., 1., 0., 1., 0., 1., 1., 1., 0., 1., 1., 1., 1., 0., 1., 1.,\n",
              "       1., 1., 0., 1., 0., 0., 1., 0., 1., 0., 1., 0., 0., 1., 1., 0., 1.,\n",
              "       0., 1., 1., 0., 1., 1., 1., 0., 1., 1., 0., 1., 0., 0., 0., 0., 1.,\n",
              "       1., 0., 0., 0., 1., 1., 0., 0., 0., 0., 1., 1., 1., 0., 0., 0., 1.,\n",
              "       0., 1., 1., 0., 0., 1., 0., 1., 0., 1., 1., 1., 1., 1., 0., 1., 1.,\n",
              "       1., 0., 1., 0., 1., 1., 0., 1., 1., 0., 1., 1., 1., 0., 1., 1., 1.,\n",
              "       0., 0., 1., 0., 0., 1., 0., 0., 0., 1., 1., 1., 1., 0., 1., 0., 1.,\n",
              "       1., 0., 0., 0., 1., 1., 0., 1., 1., 0., 1., 1., 1., 1., 1., 0., 1.,\n",
              "       1., 1., 0., 0., 0., 1., 1., 1., 0., 1., 1., 0., 1., 1., 1., 1., 1.,\n",
              "       0., 1., 0., 0., 1., 1., 1., 1., 1., 1., 0., 1.], dtype=float32)"
            ]
          },
          "metadata": {},
          "execution_count": 59
        }
      ]
    },
    {
      "cell_type": "markdown",
      "source": [
        "#5. Hasil"
      ],
      "metadata": {
        "id": "DE5WRaY9kp_L"
      }
    },
    {
      "cell_type": "code",
      "execution_count": null,
      "metadata": {
        "id": "CGucCaS44rFO"
      },
      "outputs": [],
      "source": [
        "def plot_confusion_matrix(cm, classes, normalize=False, title='Confusion matrix', \n",
        "                          cmap=plt.cm.Blues):\n",
        "  if normalize:\n",
        "    cm = cm.astype('float') / cm.sum(axis=1)[:, np.newaxis]\n",
        "    print(\"Normalized confusion matrix\")\n",
        "  plt.imshow(cm, interpolation='nearest', cmap=cmap)\n",
        "  plt.title(title)\n",
        "  plt.colorbar()\n",
        "  tick_marks = np.arange(len(classes))\n",
        "  plt.xticks(tick_marks, classes)\n",
        "  plt.yticks(tick_marks, classes)\n",
        "  fmt = '.2f' if normalize else 'd'\n",
        "  thresh = cm.max() / 2.\n",
        "  for i, j in itertools.product(range(cm.shape[0]), range(cm.shape[1])):\n",
        "    plt.text(j, i, format(cm[i, j], fmt), horizontalalignment=\"center\", \n",
        "             color=\"white\" if cm[i, j] > thresh else \"black\")\n",
        "  plt.tight_layout()\n",
        "  plt.ylabel('True label')\n",
        "  plt.xlabel('Predicted label')"
      ]
    },
    {
      "cell_type": "code",
      "execution_count": null,
      "metadata": {
        "id": "Rykzx1pZ5iah"
      },
      "outputs": [],
      "source": [
        "cm = confusion_matrix(np_labels, np_preds)\n",
        "labels = np.array([0,1])"
      ]
    },
    {
      "cell_type": "code",
      "execution_count": null,
      "metadata": {
        "id": "DSPoa7r557A2",
        "colab": {
          "base_uri": "https://localhost:8080/",
          "height": 694
        },
        "outputId": "e0d98933-ed63-4bd8-8f32-76582866ea5d"
      },
      "outputs": [
        {
          "output_type": "display_data",
          "data": {
            "text/plain": [
              "<Figure size 576x576 with 2 Axes>"
            ],
            "image/png": "[encoded data removed]"
          },
          "metadata": {
            "needs_background": "light"
          }
        },
        {
          "output_type": "stream",
          "name": "stdout",
          "text": [
            "Test loss: 0.442\n",
            "Accuracy: 0.908\n",
            "Precision: 0.938\n",
            "Recall: 0.907\n",
            "F1 Score: 0.923\n",
            "\n"
          ]
        }
      ],
      "source": [
        "plt.figure(figsize=(8,8))\n",
        "plot_confusion_matrix(cm, labels)\n",
        "plt.show()\n",
        "acc = accuracy_score(np_labels, np_preds)\n",
        "pre = precision_score(np_labels, np_preds)\n",
        "rec = recall_score(np_labels, np_preds)\n",
        "f1 = f1_score(np_labels, np_preds)\n",
        "print(\"Test loss: {:.3f}\".format(np.mean(test_losses)))\n",
        "print(\"Accuracy: {:.3f}\".format(acc))\n",
        "print(\"Precision: {:.3f}\".format(pre))\n",
        "print(\"Recall: {:.3f}\".format(rec))\n",
        "print(\"F1 Score: {:.3f}\\n\".format(f1))"
      ]
    },
    {
      "cell_type": "markdown",
      "source": [
        "#6. RNN"
      ],
      "metadata": {
        "id": "_l0Kxhie5I_o"
      }
    },
    {
      "cell_type": "code",
      "source": [
        "import torch.nn as nn\n",
        "class RNN(nn.Module):\n",
        "  def __init__(self, input_dim, embedding_dim, hidden_dim, output_dim):\n",
        "    super().__init__()\n",
        "    self.embedding = nn.Embedding(input_dim, embedding_dim)\n",
        "    self.rnn = nn.RNN(embedding_dim, hidden_dim)\n",
        "    self.fc = nn.Linear(hidden_dim, output_dim)\n",
        "    self.sig = nn.Sigmoid()\n",
        "  def forward(self, text):\n",
        "    embedded = self.embedding(text)\n",
        "    output, hidden = self.rnn(embedded)\n",
        "    assert torch.equal(output[-1,:,:], hidden.squeeze(0))\n",
        "    out = self.fc(hidden.squeeze(0))\n",
        "    sig_out = self.sig(out)\n",
        "    sig_out = sig_out.view(batch_size, -1)\n",
        "    sig_out = sig_out[:, -1]\n",
        "    return sig_out"
      ],
      "metadata": {
        "id": "ytk1421t17Ls"
      },
      "execution_count": null,
      "outputs": []
    },
    {
      "cell_type": "code",
      "source": [
        "vocab_size = len(vocab_to_int)+1 # +1 for the 0 padding\n",
        "net = RNN(vocab_size, 200, 128, 1)\n",
        "optimizer = torch.optim.Adam(net.parameters(), lr=0.01)"
      ],
      "metadata": {
        "id": "81IKs8eRWZIC"
      },
      "execution_count": null,
      "outputs": []
    },
    {
      "cell_type": "code",
      "source": [
        "print(net)"
      ],
      "metadata": {
        "colab": {
          "base_uri": "https://localhost:8080/"
        },
        "id": "v1TGbt6KzbB7",
        "outputId": "d24a955a-f719-4e98-ce3c-5aba587d28dd"
      },
      "execution_count": null,
      "outputs": [
        {
          "output_type": "stream",
          "name": "stdout",
          "text": [
            "RNN(\n",
            "  (embedding): Embedding(2265, 200)\n",
            "  (rnn): RNN(200, 128)\n",
            "  (fc): Linear(in_features=128, out_features=1, bias=True)\n",
            "  (sig): Sigmoid()\n",
            ")\n"
          ]
        }
      ]
    },
    {
      "cell_type": "code",
      "source": [
        "criterion = nn.BCELoss()\n",
        "epochs = 10\n",
        "clip=5\n",
        "losses = []\n",
        "val_losses = []\n",
        "lowest_avg_losses = 1\n",
        "net.train()\n",
        "for e in range(epochs):\n",
        "  for inputs, labels in train_loader:\n",
        "    net.zero_grad()\n",
        "    inputs = inputs.type(torch.LongTensor)\n",
        "    output = net(inputs)\n",
        "    loss = criterion(output.squeeze(), labels.float())\n",
        "    loss.backward()\n",
        "    nn.utils.clip_grad_norm_(net.parameters(), clip)\n",
        "    optimizer.step()\n",
        "  losses.append(loss.item())\n",
        "  net.eval()\n",
        "  for inputs, labels in valid_loader:\n",
        "    inputs = inputs.type(torch.LongTensor)\n",
        "    output = net(inputs)\n",
        "    val_loss = criterion(output.squeeze(), labels.float())\n",
        "  val_losses.append(val_loss.item())\n",
        "  avg_losses = (loss.item()+val_loss.item())/2\n",
        "  if (avg_losses < lowest_avg_losses):\n",
        "    lowest_avg_losses = avg_losses\n",
        "    torch.save(net.state_dict(), '/content/model_rnn.pt')\n",
        "  print(\"Epoch: {}/{}...\".format(e+1, epochs), \"Loss: {:.6f}...\".format(loss.item()), \"Val Loss: {:.6f}\".format(val_loss.item()))\n",
        "  net.train()\n",
        "print(\"Rata-rata loss terkecil:{}\".format(lowest_avg_losses))"
      ],
      "metadata": {
        "id": "cDBldqdt8vJa",
        "colab": {
          "base_uri": "https://localhost:8080/"
        },
        "outputId": "f6fc58fd-29e9-4c2c-e77b-718b1183711c"
      },
      "execution_count": null,
      "outputs": [
        {
          "output_type": "stream",
          "name": "stdout",
          "text": [
            "Epoch: 1/10... Loss: 0.709157... Val Loss: 0.699500\n",
            "Epoch: 2/10... Loss: 0.715621... Val Loss: 0.690266\n",
            "Epoch: 3/10... Loss: 0.705261... Val Loss: 0.663637\n",
            "Epoch: 4/10... Loss: 0.608199... Val Loss: 0.697030\n",
            "Epoch: 5/10... Loss: 0.678294... Val Loss: 0.681246\n",
            "Epoch: 6/10... Loss: 0.585047... Val Loss: 0.683601\n",
            "Epoch: 7/10... Loss: 0.694962... Val Loss: 0.695864\n",
            "Epoch: 8/10... Loss: 0.611460... Val Loss: 0.728990\n",
            "Epoch: 9/10... Loss: 0.714079... Val Loss: 0.720241\n",
            "Epoch: 10/10... Loss: 0.731147... Val Loss: 0.634205\n",
            "Rata-rata loss terkecil:0.6343240737915039\n"
          ]
        }
      ]
    },
    {
      "cell_type": "code",
      "source": [
        "plt_epochs = range(1,epochs+1)\n",
        "plt.plot(plt_epochs, losses, 'g', label='Training loss')\n",
        "plt.plot(plt_epochs, val_losses, 'b', label='validation loss')\n",
        "plt.title('Training and Validation loss')\n",
        "plt.xticks(range(1, 11))\n",
        "plt.xlabel('Epochs')\n",
        "plt.ylabel('Loss')\n",
        "plt.legend()\n",
        "plt.show()"
      ],
      "metadata": {
        "colab": {
          "base_uri": "https://localhost:8080/",
          "height": 295
        },
        "id": "SIL8yJ1D4CWu",
        "outputId": "386454a3-74c7-432c-d313-cc8390ea11fe"
      },
      "execution_count": null,
      "outputs": [
        {
          "output_type": "display_data",
          "data": {
            "text/plain": [
              "<Figure size 432x288 with 1 Axes>"
            ],
            "image/png": "[encoded data removed]"
          },
          "metadata": {
            "needs_background": "light"
          }
        }
      ]
    },
    {
      "cell_type": "code",
      "source": [
        "net.load_state_dict(torch.load('/content/model_rnn.pt'))"
      ],
      "metadata": {
        "id": "VpFCsMxGiMm9"
      },
      "execution_count": null,
      "outputs": []
    },
    {
      "cell_type": "code",
      "source": [
        "criterion = nn.BCELoss()\n",
        "test_losses = []\n",
        "all_labels = torch.tensor([])\n",
        "all_preds = torch.tensor([])\n",
        "net.eval()\n",
        "for inputs, labels in test_loader:\n",
        "  inputs = inputs.type(torch.LongTensor)\n",
        "  output = net(inputs)\n",
        "  test_loss = criterion(output.squeeze(), labels.float())\n",
        "  test_losses.append(test_loss.item())\n",
        "  pred = torch.round(output.squeeze())\n",
        "  all_preds = torch.cat((all_preds, pred),dim=0)\n",
        "  all_labels = torch.cat((all_labels, labels),dim=0)\n",
        "  np_preds = all_preds.detach().numpy()\n",
        "  np_labels = all_labels.detach().numpy()"
      ],
      "metadata": {
        "id": "3XrjARAntjag"
      },
      "execution_count": null,
      "outputs": []
    },
    {
      "cell_type": "code",
      "source": [
        "cm = confusion_matrix(np_labels, np_preds)\n",
        "labels = np.array([0,1])"
      ],
      "metadata": {
        "id": "UxyFf2mI4C3M"
      },
      "execution_count": null,
      "outputs": []
    },
    {
      "cell_type": "code",
      "source": [
        "plt.figure(figsize=(8,8))\n",
        "plot_confusion_matrix(cm, labels)\n",
        "plt.show()\n",
        "acc = accuracy_score(np_labels, np_preds)\n",
        "pre = precision_score(np_labels, np_preds)\n",
        "rec = recall_score(np_labels, np_preds)\n",
        "f1 = f1_score(np_labels, np_preds)\n",
        "print(\"Test loss: {:.3f}\".format(np.mean(test_losses)))\n",
        "print(\"Accuracy: {:.3f}\".format(acc))\n",
        "print(\"Precision: {:.3f}\".format(pre))\n",
        "print(\"Recall: {:.3f}\".format(rec))\n",
        "print(\"F1 Score: {:.3f}\\n\".format(f1))"
      ],
      "metadata": {
        "id": "Cd_GWT3luHDl",
        "colab": {
          "base_uri": "https://localhost:8080/",
          "height": 694
        },
        "outputId": "4012ad20-9b3d-42ab-89ed-cb130099dab9"
      },
      "execution_count": null,
      "outputs": [
        {
          "output_type": "display_data",
          "data": {
            "text/plain": [
              "<Figure size 576x576 with 2 Axes>"
            ],
            "image/png": "[encoded data removed]"
          },
          "metadata": {
            "needs_background": "light"
          }
        },
        {
          "output_type": "stream",
          "name": "stdout",
          "text": [
            "Test loss: 0.668\n",
            "Accuracy: 0.608\n",
            "Precision: 0.606\n",
            "Recall: 1.000\n",
            "F1 Score: 0.755\n",
            "\n"
          ]
        }
      ]
    }
  ],
  "metadata": {
    "colab": {
      "collapsed_sections": [],
      "name": "source code skirpsi.ipynb",
      "provenance": []
    },
    "kernelspec": {
      "display_name": "Python 3",
      "name": "python3"
    },
    "language_info": {
      "name": "python"
    }
  },
  "nbformat": 4,
  "nbformat_minor": 0
}